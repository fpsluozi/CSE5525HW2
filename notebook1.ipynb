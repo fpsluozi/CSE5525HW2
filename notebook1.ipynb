{
 "metadata": {
  "name": "",
  "signature": "sha256:14525f19a9145ab18c2ea9ed00fc01e30fbe1711b6b25c42682b172e021bbb8f"
 },
 "nbformat": 3,
 "nbformat_minor": 0,
 "worksheets": [
  {
   "cells": [
    {
     "cell_type": "code",
     "collapsed": false,
     "input": [
      "# CSE5525 NLP Homework 2 Group 1\n",
      "import nltk\n",
      "import numpy\n",
      "import itertools\n",
      "import math\n",
      "from nltk.corpus import treebank\n",
      "\n",
      "epsilon = 0.00000000000000000001\n",
      "\n",
      "full_training_set = nltk.corpus.treebank.tagged_sents()[0:3500]\n",
      "training_set1 = full_training_set[0:1750]\n",
      "training_set2 = full_training_set[1750:]\n",
      "test_set = nltk.corpus.treebank.tagged_sents()[3500:]\n",
      "\n",
      "# Step 2: Retrieve P(W_i | T_i) and P(T_i| T_i-1)\n",
      "#\n",
      "# Sample Usage 1: \n",
      "#   print set1_cpd_tags['DT'].prob('JJ')\n",
      "#   meaning print the prob of adjective given determinor from training set 1\n",
      "#\n",
      "# Sample Usage 2: \n",
      "#   print full_cpd_word_tag['DT'].prob('the')\n",
      "#   meaning print the prob of word 'the' given determinor from full training set\n",
      "#\n",
      "# PS. cpd as the Conditional Prob Distribution\n",
      "# PSS. We use Laplace distribution for unseen cases\n",
      "\n",
      "# Full Traning Set\n",
      "full_training_set_words = []\n",
      "for sent in full_training_set:\n",
      "    full_training_set_words.append(('<s>','<s>'))\n",
      "    full_training_set_words.extend([ (tag, word) for (word, tag) in sent ])\n",
      "    full_training_set_words.append(('</s>','</s>'))\n",
      "\n",
      "full_tags = [tag for (tag, word) in full_training_set_words]\n",
      "full_words = [word for (tag, word) in full_training_set_words]\n",
      "full_tag_set = set(full_tags)\n",
      "\n",
      "full_cfd_word_tag = nltk.ConditionalFreqDist(full_training_set_words)\n",
      "full_cfd_tags = nltk.ConditionalFreqDist(nltk.bigrams(full_tags))\n",
      "\n",
      "\"\"\"\n",
      "for tag_1 in set(full_tags): # Laplace smoothing\n",
      "    for tag_2 in set(full_tags):\n",
      "        if full_cfd_tags[tag_1][tag_2] == 0:\n",
      "            full_cfd_tags[tag_1][tag_2] = 1\n",
      "for tag in set(full_tags): # Laplace smoothing\n",
      "    for word in set(full_words):\n",
      "        if full_cfd_word_tag[tag][word] == 0:\n",
      "            full_cfd_word_tag[tag][word] = 1\n",
      "\"\"\"\n",
      "\n",
      "full_cpd_word_tag = nltk.ConditionalProbDist(full_cfd_word_tag, nltk.MLEProbDist)\n",
      "full_cpd_tags = nltk.ConditionalProbDist(full_cfd_tags, nltk.MLEProbDist)\n",
      "\n",
      "# Traning Set 1\n",
      "set1_training_set_words = []\n",
      "for sent in training_set1:\n",
      "    set1_training_set_words.append(('<s>','<s>'))\n",
      "    set1_training_set_words.extend([ (tag, word) for (word, tag) in sent ])\n",
      "    set1_training_set_words.append(('</s>','</s>'))\n",
      "\n",
      "set1_tags = [tag for (tag, word) in set1_training_set_words]\n",
      "set1_words = [word for (tag, word) in set1_training_set_words]\n",
      "\n",
      "set1_cfd_word_tag = nltk.ConditionalFreqDist(set1_training_set_words)\n",
      "set1_cfd_tags = nltk.ConditionalFreqDist(nltk.bigrams(set1_tags))\n",
      "\n",
      "\"\"\"\n",
      "for tag_1 in set(set1_tags): # Laplace smoothing\n",
      "    for tag_2 in set(set1_tags):\n",
      "        if set1_cfd_tags[tag_1][tag_2] == 0:\n",
      "            set1_cfd_tags[tag_1][tag_2] = 1\n",
      "for tag in set(set1_tags): # Laplace smoothing\n",
      "    for word in set(set1_words):\n",
      "        if set1_cfd_word_tag[tag][word] == 0:\n",
      "            set1_cfd_word_tag[tag][word] = 1\n",
      "            \n",
      "\"\"\"\n",
      "            \n",
      "set1_cpd_word_tag = nltk.ConditionalProbDist(set1_cfd_word_tag, nltk.MLEProbDist)\n",
      "set1_cpd_tags = nltk.ConditionalProbDist(set1_cfd_tags, nltk.MLEProbDist)"
     ],
     "language": "python",
     "metadata": {},
     "outputs": [],
     "prompt_number": 133
    },
    {
     "cell_type": "code",
     "collapsed": false,
     "input": [
      "import numpy"
     ],
     "language": "python",
     "metadata": {},
     "outputs": [],
     "prompt_number": 5
    },
    {
     "cell_type": "code",
     "collapsed": false,
     "input": [
      "for tag_1 in set(full_tags): # Laplace smoothing\n",
      "    for tag_2 in set(full_tags):\n",
      "        print full_cfd_tags[tag_1][tag_2],\n",
      "    print"
     ],
     "language": "python",
     "metadata": {},
     "outputs": [
      {
       "output_type": "stream",
       "stream": "stdout",
       "text": [
        "0 4 0 2 4 0 0 0 0 158 0 1 0 0 0 0 8 306 0 0 1 0 0 0 1 1 0 152 39 0 0 0 0 0 1 0 16 0 0 1 0 0 1 0 10 1 0 0\n",
        "37 3 2 5 28 0 2 0 0 90 3 1 234 0 0 26 7 179 0 0 25 22 57 29 49 0 3 129 37 0 0 18 0 0 1 5 27 98 0 163 0 0 1 1 0 21 0 0\n",
        "44 46 0 9 258 0 1 0 0 121 2 0 354 0 1 39 29 78 0 0 24 19 64 31 218 1 5 54 81 6 4 5 0 2 0 6 135 729 0 294 0 0 0 0 0 19 0 1\n",
        "3 5 4 0 10 0 0 8 0 70 6 11 119 2 0 0 0 66 0 0 0 0 0 127 45 0 0 22 43 12 7 15 0 0 0 0 1 23 15 45 0 7 0 0 0 1 0 1\n",
        "26 30 0 6 51 0 4 0 0 82 4 1 104 0 0 21 9 117 0 0 13 18 29 6 42 0 4 72 21 0 0 14 0 0 1 2 19 1062 0 153 0 0 0 0 0 5 0 0\n",
        "0 6 6 6 9 0 0 0 0 153 1 2 0 0 0 0 4 291 0 0 4 7 0 0 3 0 "
       ]
      },
      {
       "output_type": "stream",
       "stream": "stdout",
       "text": [
        "0 91 96 0 0 4 0 0 2 0 18 0 0 2 0 0 5 1 14 2 0 0\n",
        "1 3 48 0 3 0 5 3 8 1 0 85 32 216 0 0 0 24 0 0 0 1 3 49 5 4 3 12 47 2 1 20 0 0 0 0 0 6 0 64 1 2 0 1 0 1 0 0\n",
        "11 94 2 7 207 0 1 0 0 94 2 0 134 0 0 14 3 33 0 0 9 9 12 27 175 2 1 25 15 1 2 5 0 1 0 6 10 197 0 115 0 0 0 0 0 6 0 0\n",
        "0 0 2 2 0 0 0 0 0 4 0 1 9 0 0 0 0 3 0 0 0 0 0 17 2 0 1 6 5 0 0 0 0 0 0 0 2 338 1 2 0 1 0 0 1 0 0 0\n",
        "0 24 4 10 16 0 20 4 0 340 1 6 18 0 0 1 9 2323 0 0 159 119 57 3 14 3 16 1287 180 0 4 85 0 0 0 1 114 118 0 303 0 1 4 1 2 3 0 0\n",
        "3"
       ]
      },
      {
       "output_type": "stream",
       "stream": "stdout",
       "text": [
        " 0 0 0 0 0 0 0 0 1 0 4 9 0 0 0 0 3 0 0 1 0 0 13 4 0 0 2 5 0 0 0 0 1 1 0 1 176 0 4 0 0 0 0 0 0 0 0\n",
        "18 90 3 25 298 0 2 0 0 127 3 1 265 0 0 16 11 76 0 0 15 5 12 25 257 0 8 23 42 4 7 7 0 1 0 7 33 384 0 169 0 0 0 0 1 14 0 0\n",
        "1 83 13 48 77 0 1 6 3 1479 7 39 10 1 0 0 64 3434 0 1 8 9 2 3 65 3 2 583 925 0 0 4 0 0 18 12 171 14 0 75 0 11 24 1 72 45 0 0\n",
        "0 0 0 0 0 0 0 0 0 0 0 0 0 0 0 0 0 0 3499 0 0 0 0 0 0 0 0 0 0 0 0 0 0 0 0 0 0 0 0 0 0 0 0 0 0 0 0 0\n",
        "0 0 0 0 0 0 0 0 0 0 0 0 0 0 0 0 0 0 0 0 0 0 0 0 0 0 0 0 0 0 0 0 0 0 0 0 16 0 0 0 0 0 0 0 0 0 0 0\n",
        "10"
       ]
      },
      {
       "output_type": "stream",
       "stream": "stdout",
       "text": [
        " 0 0 2 0 0 2 0 0 12 0 0 43 0 0 0 1 9 0 0 6 6 6 0 6 0 0 10 4 0 0 3 0 0 0 0 4 17 0 50 0 0 0 0 0 2 0 0\n",
        "0 0 0 0 0 0 0 0 0 7 0 0 0 0 0 0 0 0 0 0 0 0 0 0 0 0 0 0 0 0 0 0 0 0 0 0 606 0 0 0 0 0 0 0 0 0 0 0\n",
        "2 81 541 34 98 246 66 49 96 95 34 533 60 3 0 5 4 1473 0 1 1295 1194 244 16 189 17 180 935 79 18 23 434 0 0 0 8 63 476 0 2861 0 167 0 18 2 24 0 0\n",
        "27 16 0 286 6 0 1 0 2 124 14 9 804 0 0 0 5 143 0 0 0 0 5 230 157 7 11 155 671 2 21 180 7 2 2 3 28 79 17 458 0 1 10 0 6 10 0 1\n",
        "0 0 0 0 0 0 0 0 0 0 0 2 0 0 0 0 0 1 0 0 0 0 0 0 0 0 0 0 0 0 0 0 0 0 0 0 0 0 0 0 0 0 0 1 0 0 0 0\n",
        "14 78 244 63 103 0 256 39 151 189 50 134 593 2 0 0 49 209 0 1 0 0 13 174 243 1 0 120 613 11 33 366 1 0 3 4 108 143 19 344 3 46 1 0 4 7 0 0\n",
        "0"
       ]
      },
      {
       "output_type": "stream",
       "stream": "stdout",
       "text": [
        " 0 1 2 0 0 222 0 0 0 0 0 0 3209 0 0 0 0 0 0 0 0 0 0 0 7 1 0 4 0 0 0 0 0 0 0 0 5 0 0 0 0 0 17 0 0 0 0\n",
        "33 0 0 9 3 0 0 0 0 58 0 0 258 0 6 0 64 54 0 0 0 0 0 11 15 0 0 59 77 1128 0 0 0 0 0 3 144 16 0 9 0 0 0 0 0 9 0 0\n",
        "0 5 402 8 3 0 0 286 0 9 2 310 12 0 0 6 0 6 0 0 29 46 26 3 82 3 5 2 3 16 0 14 0 0 0 1 1 59 0 52 0 203 0 1 0 5 0 0\n",
        "2 81 162 5 264 0 3 84 4 239 4 95 135 0 0 0 20 38 0 0 233 106 38 10 186 1 15 13 9 263 4 20 0 1 0 21 79 61 2 306 0 24 1 0 1 44 0 0\n",
        "0 1 0 0 6 0 0 0 0 3 0 0 10 0 0 0 18 3 0 0 0 0 0 3 1 0 0 3 37 0 0 2 0 0 0 0 8 1 0 9 0 1 0 0 0 2 0 0\n",
        "1"
       ]
      },
      {
       "output_type": "stream",
       "stream": "stdout",
       "text": [
        " 5 12 24 6 0 0 7 2 33 8 6 57 40 0 0 3 15 0 0 0 6 1 14 17 0 0 13 93 3 3 28 4 0 0 1 53 15 1 44 0 7 0 0 0 2 0 0\n",
        "1 65 394 8 104 52 25 496 81 98 48 49 66 1 0 2 2 123 0 0 648 662 105 10 136 21 102 67 5 23 14 315 0 0 1 7 7 218 0 1310 4 142 0 11 0 13 0 0\n",
        "0 6 526 6 7 415 28 29 4 74 6 311 21 7 0 1 2 443 0 0 1329 426 32 5 58 22 65 183 3247 8 2 327 0 0 0 0 182 52 0 361 0 79 144 28 0 1 1 0\n",
        "95 20 2 11 204 0 4 1 2 197 7 0 527 0 0 52 24 149 0 0 31 34 38 76 83 3 4 106 75 3 8 19 0 6 2 19 54 181 0 232 1 1 1 1 0 20 0 0\n",
        "3 1 2 1 0 0 0 3 0 14 0 4 50 0 0 1 0 10 0 0 0 0 0 28 4 0 0 11 11 0 0 0 0 1 1 0 3 7 1 2 0 1 0 0 0 0 0 0\n",
        "30 48 76 8 36 0 0 25 2 220 4 46 227 0 0 0 33 239 0 0 22 0 11 88 100 0 1 145 322 69 7 1 1 0 0 4 84 17 11 107 0 22 5 0 5 23 0 0\n",
        "0"
       ]
      },
      {
       "output_type": "stream",
       "stream": "stdout",
       "text": [
        " 0 0 0 0 0 0 0 0 0 0 0 0 0 0 0 0 0 0 0 0 5 0 0 0 0 2 0 0 0 0 0 0 0 0 0 0 0 0 0 0 0 0 6 0 0 0 0\n",
        "3 0 0 0 0 0 0 0 0 0 0 0 20 0 0 0 0 0 0 0 0 0 0 0 0 0 0 0 0 0 0 0 0 0 0 0 0 0 0 0 0 0 0 0 0 0 0 0\n",
        "0 0 0 0 1 0 0 0 0 25 0 0 0 0 0 0 0 0 0 0 0 0 0 0 6 0 0 0 0 0 0 0 0 0 0 0 0 0 0 2 0 0 0 0 0 0 0 0\n",
        "0 2 1 0 5 0 0 1 0 48 0 0 4 0 0 0 0 0 0 0 3 6 1 0 14 1 2 0 0 2 1 2 0 0 0 0 0 3 0 28 0 1 0 0 0 0 0 0\n",
        "1 6 18 1 12 3 2 11 6 100 1 7 5 1 0 0 0 614 0 0 190 162 92 1 7 1 13 459 41 0 1 47 0 0 0 1 554 636 0 117 1 7 0 3 4 3 0 0\n",
        "28 466 182 15 64 1 3 139 1 84 1 233 301 1 0 8 19 117 0 0 300 523 1091 303 139 9 52 30 223 54 5 67 0 0 1 8 17 429 8 858 0 79 0 22 2 9 0 0\n",
        "0"
       ]
      },
      {
       "output_type": "stream",
       "stream": "stdout",
       "text": [
        " 0 11 0 0 0 0 17 0 0 0 50 0 0 0 0 0 0 0 0 0 0 0 0 2 0 0 0 0 0 0 0 0 0 0 0 0 0 0 0 0 5 0 0 0 0 0 0\n",
        "313 30 4 59 28 0 2 1 34 852 20 2 2816 5 9 1 222 957 0 1 19 21 10 296 104 0 1 563 1308 2 11 7 0 8 0 6 562 311 10 150 0 1 16 0 36 54 0 0\n",
        "0 0 0 0 0 0 0 0 0 1 0 0 0 0 0 0 0 6 0 0 0 0 0 0 0 0 0 3 0 0 0 0 0 0 0 0 0 0 0 0 0 0 0 0 0 0 0 0\n",
        "0 1 0 4 0 0 0 0 0 1 0 0 3 0 0 0 0 0 0 0 3 0 0 1 132 0 0 1 1 665 0 0 0 0 0 0 0 6 0 0 0 0 0 0 0 0 0 0\n",
        "0 0 9 1 0 10 0 9 0 0 0 3 0 5 0 0 0 5 0 0 29 19 1 0 2 1 10 1 70 0 0 13 0 0 0 0 0 2 0 16 0 7 2 1 0 0 0 0\n",
        "0 0 7 1 1 0 0 1 1 1 0 2 6 7 0 0 0 3 0 0 23 16 2 1 5 0 14 0 2 0 0 4 0 0 0 0 1 4 0 10 0 2 0 0 0"
       ]
      },
      {
       "output_type": "stream",
       "stream": "stdout",
       "text": [
        " 0 0 0\n",
        "0 3 1 0 3 0 0 1 0 24 0 1 2 0 0 0 2 44 0 0 3 4 0 0 5 0 1 29 2 0 0 1 0 0 0 0 6 2 0 25 0 0 1 0 0 0 0 0\n",
        "0 0 1 0 1 0 1 0 0 22 0 0 6 0 0 0 1 70 0 0 9 22 4 0 1 0 2 70 4 1 1 12 0 0 0 0 1 7 0 110 0 0 0 0 0 0 0 0\n",
        "0 0 0 0 0 0 0 0 0 0 0 0 0 0 0 0 0 0 0 0 0 0 0 0 0 0 0 0 1 0 0 0 0 0 0 0 0 0 0 0 0 0 0 0 0 0 0 0\n",
        "0 0 0 0 0 0 0 0 0 0 0 0 0 0 0 0 0 0 0 0 1 1 0 0 0 0 0 0 0 0 0 0 0 0 0 0 0 0 0 1 0 0 0 0 0 0 0 0\n"
       ]
      }
     ],
     "prompt_number": 127
    },
    {
     "cell_type": "code",
     "collapsed": false,
     "input": [
      "len(set(set1_tags))"
     ],
     "language": "python",
     "metadata": {},
     "outputs": [
      {
       "metadata": {},
       "output_type": "pyout",
       "prompt_number": 49,
       "text": [
        "47"
       ]
      }
     ],
     "prompt_number": 49
    },
    {
     "cell_type": "code",
     "collapsed": false,
     "input": [
      "for tag_1 in set(full_tags):\n",
      "      # A_table[dict_tags[tag_1]][dict_tags[tag_2]] = set1_cpd_tags[tag_1].prob(tag_2)\n",
      "        #print tag_1, ' ', tag_2, ' ', full_cpd_tags[tag_1].prob(tag_2)\n",
      "        print tag_1,' ', full_cfd_word_tag[tag_1]\n"
     ],
     "language": "python",
     "metadata": {},
     "outputs": [
      {
       "output_type": "stream",
       "stream": "stdout",
       "text": [
        "PRP$   <FreqDist with 13 samples and 707 outcomes>\n",
        "VBG   <FreqDist with 531 samples and 1303 outcomes>\n",
        "VBD   <FreqDist with 480 samples and 2680 outcomes>\n",
        "``   <FreqDist with 2 samples and 668 outcomes>\n",
        "VBN   <FreqDist with 646 samples and 1916 outcomes>\n",
        "POS   <FreqDist with 2 samples and 727 outcomes>\n",
        "''   <FreqDist with 2 samples and 651 outcomes>\n",
        "VBP   <FreqDist with 276 samples and 1220 outcomes>\n",
        "WDT   <FreqDist with 6 samples and 397 outcomes>\n",
        "JJ   <FreqDist with 1647 samples and 5250 outcomes>\n",
        "WP   <FreqDist with 5 samples and 228 outcomes>\n",
        "VBZ   <FreqDist with 304 samples and 1949 outcomes>\n",
        "DT   <FreqDist with 39 samples and 7314 outcomes>\n",
        "#   <FreqDist with 1 samples and 16 outcomes>\n",
        "RP   <FreqDist with 15 samples and 193 outcomes>\n",
        "$   <FreqDist with 3 samples and 613 outcomes>\n",
        "NN   <FreqDist with 2482 samples and 11664 outcomes>\n",
        "FW   <FreqDist with 4 samples and 4 outcomes>\n",
        ",   <FreqDist with 2 samples and 4432 outcomes>\n",
        ".   <FreqDist with 3 samples and 3468 outcomes>\n",
        "TO   <FreqDist with 3 samples and 1956 outcomes>\n",
        "PRP   <FreqDist with 25 samples and 1600 outcomes>\n",
        "RB   <FreqDist with 431 samples and 2574 outcomes>\n",
        "-LRB-   <FreqDist with 2 samples and 108 outcomes>\n",
        ":   <FreqDist with 5 samples and 524 outcomes>\n",
        "NNS   <FreqDist with 1359 samples and 5436 outcomes>\n",
        "NNP   <FreqDist with 2316 samples and 8438 outcomes>\n",
        "VB   <FreqDist with 656 samples and 2293 outcomes>\n",
        "WRB   <FreqDist with 9 samples and 159 outcomes>\n",
        "CC   <FreqDist with 17 samples and 2039 outcomes>\n",
        "LS   <FreqDist with 7 samples and 13 outcomes>\n",
        "PDT   <FreqDist with 5 samples and 23 outcomes>\n",
        "RBS   <FreqDist with 2 samples and 34 outcomes>\n",
        "RBR   <FreqDist with 16 samples and 125 outcomes>\n",
        "CD   <FreqDist with 863 samples and 3128 outcomes>\n",
        "-NONE-   <FreqDist with 440 samples and 5892 outcomes>\n",
        "T   <FreqDist with 1 samples and 3500 outcomes>\n",
        "IN   <FreqDist with 117 samples and 8852 outcomes>\n",
        "WP$   <FreqDist with 1 samples and 10 outcomes>\n",
        "MD   <FreqDist with 16 samples and 818 outcomes>\n",
        "NNPS   <FreqDist with 98 samples and 216 outcomes>\n",
        "-RRB-   <FreqDist with 2 samples and 114 outcomes>\n",
        "JJS   <FreqDist with 29 samples and 160 outcomes>\n",
        "S   <FreqDist with 1 samples and 3500 outcomes>\n",
        "SYM   <FreqDist with 1 samples and 1 outcomes>\n",
        "UH   <FreqDist with 3 samples and 3 outcomes>\n",
        "JJR   <FreqDist with 46 samples and 346 outcomes>\n",
        "EX   <FreqDist with 2 samples and 85 outcomes>\n"
       ]
      }
     ],
     "prompt_number": 46
    },
    {
     "cell_type": "code",
     "collapsed": false,
     "input": [
      "def viterbi(obs, states, start_p, trans_p, emit_p):\n",
      "    V = [{}]\n",
      "    path = ['']\n",
      "    epsilon = 0.00000000000000000001\n",
      " \n",
      "    # Initialize base cases (t == 0)\n",
      "    max_v = -1.0 / epsilon / 1000\n",
      "    for y in states:\n",
      "        # print y\n",
      "        temp_emit = emit_p[y].prob(obs[0])\n",
      "        if temp_emit < epsilon:\n",
      "            temp_emit = epsilon\n",
      "        V[0][y] = math.log(start_p[y]) + math.log(temp_emit)\n",
      "        if max_v < V[0][y]: \n",
      "            max_v = V[0][y]          \n",
      "            path[0] = y\n",
      " \n",
      "    # print V[0]\n",
      "    # Run Viterbi for t > 0\n",
      "    for t in range(1, len(obs)):\n",
      "        # print t, \n",
      "        V.append({})\n",
      "        path.append('')\n",
      "        max_v = -1.0 / epsilon\n",
      "        for y in states:\n",
      "            \n",
      "            if y == \"<s>\":\n",
      "                V[t][y] = max_v\n",
      "            else:\n",
      "                temp = list()\n",
      "                for y0 in states: \n",
      "                    temp_trans = trans_p[y0].prob(y)\n",
      "                    if temp_trans < epsilon:\n",
      "                        temp_trans = epsilon\n",
      "                    temp_prev_v = V[t-1][y0]\n",
      "                    if temp_prev_v < epsilon:\n",
      "                        temp_prev_v = epsilon\n",
      "                    temp.append((math.log(temp_prev_v) + math.log(temp_trans)))\n",
      "\n",
      "                temp_emit = emit_p[y].prob(obs[t])\n",
      "                if temp_emit < epsilon:\n",
      "                    temp_emit = epsilon\n",
      "                prob = math.log(temp_emit) + max(temp)\n",
      "                V[t][y] = prob\n",
      "                if max_v < prob:              \n",
      "                    max_v = prob\n",
      "                    path[t] = y\n",
      "            \n",
      "    return path\n"
     ],
     "language": "python",
     "metadata": {},
     "outputs": [],
     "prompt_number": 145
    },
    {
     "cell_type": "code",
     "collapsed": false,
     "input": [
      "C_table = {}\n",
      "for tag in full_tag_set:\n",
      "    C_table[tag] = 0.00000000000000000001\n",
      "C_table['<s>'] = 1.0\n",
      "\n",
      "print C_table"
     ],
     "language": "python",
     "metadata": {},
     "outputs": [
      {
       "output_type": "stream",
       "stream": "stdout",
       "text": [
        "{u'PRP$': 1e-20, u'VBG': 1e-20, u'FW': 1e-20, u'VBN': 1e-20, u',': 1e-20, u\"''\": 1e-20, u'VBP': 1e-20, u'WDT': 1e-20, u'JJ': 1e-20, u'WP': 1e-20, u'VBZ': 1e-20, u'DT': 1e-20, '</s>': 1e-20, u'#': 1e-20, u'RP': 1e-20, u'$': 1e-20, u'NN': 1e-20, '<s>': 1.0, u'VBD': 1e-20, u'POS': 1e-20, u'.': 1e-20, u'TO': 1e-20, u'PRP': 1e-20, u'RB': 1e-20, u'-LRB-': 1e-20, u':': 1e-20, u'NNS': 1e-20, u'NNP': 1e-20, u'``': 1e-20, u'WRB': 1e-20, u'CC': 1e-20, u'LS': 1e-20, u'PDT': 1e-20, u'RBS': 1e-20, u'RBR': 1e-20, u'CD': 1e-20, u'-NONE-': 1e-20, u'EX': 1e-20, u'IN': 1e-20, u'WP$': 1e-20, u'MD': 1e-20, u'NNPS': 1e-20, u'-RRB-': 1e-20, u'JJS': 1e-20, u'JJR': 1e-20, u'SYM': 1e-20, u'VB': 1e-20, u'UH': 1e-20}\n"
       ]
      }
     ],
     "prompt_number": 148
    },
    {
     "cell_type": "code",
     "collapsed": false,
     "input": [
      "test_obs = ['<s>', 'Pierre', 'Viken' , ',' , '61' , \"years\", \"old\", \"will\", \"join\", \"the\", \"board\", \"as\", \"a\", \"nonexecutive\", \"director\", \"Nov.\", \"29\",\".\", \"</s>\"]\n",
      "#test_obs = ['Pierre', 'Viken']\n",
      "print viterbi(test_obs, full_tag_set, C_table, set1_cpd_tags, set1_cpd_word_tag )"
     ],
     "language": "python",
     "metadata": {},
     "outputs": [
      {
       "output_type": "stream",
       "stream": "stdout",
       "text": [
        "['<s>', u'NNP', u'NNP', u',', u'CD', u'NNS', u'JJ', u'MD', u'VB', u'DT', u'NN', u'IN', u'DT', u'JJ', u'NN', u'NNP', u'CD', u'.', '</s>']\n"
       ]
      }
     ],
     "prompt_number": 149
    },
    {
     "cell_type": "code",
     "collapsed": false,
     "input": [],
     "language": "python",
     "metadata": {},
     "outputs": [],
     "prompt_number": 150
    },
    {
     "cell_type": "code",
     "collapsed": false,
     "input": [
      "full_obs_set = []\n",
      "for sent in full_training_set:\n",
      "    full_obs_set.append([ word for (word, tag) in sent ])\n",
      "for i in xrange(len(full_obs_set)):\n",
      "    full_obs_set[i].append('</s>')\n",
      "    full_obs_set[i].insert(0, '<s>')\n"
     ],
     "language": "python",
     "metadata": {},
     "outputs": [],
     "prompt_number": 157
    },
    {
     "cell_type": "code",
     "collapsed": false,
     "input": [
      "full_obs_set[3]"
     ],
     "language": "python",
     "metadata": {},
     "outputs": [
      {
       "metadata": {},
       "output_type": "pyout",
       "prompt_number": 164,
       "text": [
        "['<s>',\n",
        " u'A',\n",
        " u'form',\n",
        " u'of',\n",
        " u'asbestos',\n",
        " u'once',\n",
        " u'used',\n",
        " u'*',\n",
        " u'*',\n",
        " u'to',\n",
        " u'make',\n",
        " u'Kent',\n",
        " u'cigarette',\n",
        " u'filters',\n",
        " u'has',\n",
        " u'caused',\n",
        " u'a',\n",
        " u'high',\n",
        " u'percentage',\n",
        " u'of',\n",
        " u'cancer',\n",
        " u'deaths',\n",
        " u'among',\n",
        " u'a',\n",
        " u'group',\n",
        " u'of',\n",
        " u'workers',\n",
        " u'exposed',\n",
        " u'*',\n",
        " u'to',\n",
        " u'it',\n",
        " u'more',\n",
        " u'than',\n",
        " u'30',\n",
        " u'years',\n",
        " u'ago',\n",
        " u',',\n",
        " u'researchers',\n",
        " u'reported',\n",
        " u'0',\n",
        " u'*T*-1',\n",
        " u'.',\n",
        " '</s>']"
       ]
      }
     ],
     "prompt_number": 164
    },
    {
     "cell_type": "code",
     "collapsed": false,
     "input": [
      "print viterbi(full_obs_set[3], full_tag_set, C_table, set1_cpd_tags, set1_cpd_word_tag )"
     ],
     "language": "python",
     "metadata": {},
     "outputs": [
      {
       "output_type": "stream",
       "stream": "stdout",
       "text": [
        "['<s>', u'DT', u'NN', u'IN', u'NN', u'RB', u'VBN', u'-NONE-', u'-NONE-', u'TO', u'VB', u'NNP', u'NN', u'NNS', u'VBZ', u'VBN', u'DT', u'JJ', u'NN', u'IN', u'NN', u'NNS', u'IN', u'DT', u'NN', u'IN', u'NNS', u'VBN', u'-NONE-', u'TO', u'PRP', u'RBR', u'IN', u'CD', u'NNS', u'RB', u',', u'NNS', u'VBD', u'-NONE-', u'-NONE-', u'.', '</s>']\n"
       ]
      }
     ],
     "prompt_number": 163
    },
    {
     "cell_type": "code",
     "collapsed": false,
     "input": [],
     "language": "python",
     "metadata": {},
     "outputs": []
    }
   ],
   "metadata": {}
  }
 ]
}