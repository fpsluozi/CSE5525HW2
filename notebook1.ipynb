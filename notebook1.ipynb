{
 "metadata": {
  "name": "",
  "signature": "sha256:ea419c0e30c44e5a4db9fa39d6e1f95d4f2fdf36f30d369bf2b09386cba59f36"
 },
 "nbformat": 3,
 "nbformat_minor": 0,
 "worksheets": [
  {
   "cells": [
    {
     "cell_type": "code",
     "collapsed": false,
     "input": [],
     "language": "python",
     "metadata": {},
     "outputs": [],
     "prompt_number": 2
    },
    {
     "cell_type": "code",
     "collapsed": false,
     "input": [
      "test_obs = ['<s>', 'Pierre', 'Vinken', ',' , '61' , \"years\", \"old\", \"will\", \"join\", \"the\", \"board\", \"as\", \"a\", \"nonexecutive\", \"director\", \"Nov.\", \"29\",\".\"]\n",
      "\n",
      "#run viterbi\n",
      "print viterbi(dict_tags, dict_words, test_obs, full_tag_set, init_table, A_full_table, B_full_table )\n"
     ],
     "language": "python",
     "metadata": {},
     "outputs": [
      {
       "output_type": "stream",
       "stream": "stdout",
       "text": [
        "['<s>', u'CD', u'CD', u',', u'CD', u'NNS', u'JJ', u'MD', u'VB', u'DT', u'NN', u'IN', u'DT', u'JJ', u'NN', u'NNP', u'CD', u'.']\n"
       ]
      }
     ],
     "prompt_number": 3
    },
    {
     "cell_type": "code",
     "collapsed": false,
     "input": [
      "%run \"step 6/step6.py\""
     ],
     "language": "python",
     "metadata": {},
     "outputs": [
      {
       "output_type": "stream",
       "stream": "stdout",
       "text": [
        "P_O =  1.21953261611e-106\n",
        "P_O = "
       ]
      },
      {
       "output_type": "stream",
       "stream": "stdout",
       "text": [
        " 5.82369495616e-64\n",
        "P_O = "
       ]
      },
      {
       "output_type": "stream",
       "stream": "stdout",
       "text": [
        " 5.76282216934e-99\n",
        "P_O = "
       ]
      },
      {
       "output_type": "stream",
       "stream": "stdout",
       "text": [
        " 5.62559088149e-153\n",
        "P_O = "
       ]
      },
      {
       "output_type": "stream",
       "stream": "stdout",
       "text": [
        " 4.21020468018e-93\n",
        "P_O = "
       ]
      },
      {
       "output_type": "stream",
       "stream": "stdout",
       "text": [
        " 1.44340990264e-137\n",
        "P_O = "
       ]
      },
      {
       "output_type": "stream",
       "stream": "stdout",
       "text": [
        " 3.95530488236e-137\n",
        "P_O = "
       ]
      },
      {
       "output_type": "stream",
       "stream": "stdout",
       "text": [
        " 2.67949443788e-83\n",
        "P_O = "
       ]
      },
      {
       "output_type": "stream",
       "stream": "stdout",
       "text": [
        " 2.74955044265e-31\n",
        "P_O = "
       ]
      },
      {
       "output_type": "stream",
       "stream": "stdout",
       "text": [
        " 8.89284927054e-99\n",
        "P_O = "
       ]
      },
      {
       "output_type": "stream",
       "stream": "stdout",
       "text": [
        " 1.65653471543e-142\n",
        "P_O = "
       ]
      },
      {
       "output_type": "stream",
       "stream": "stdout",
       "text": [
        " 3.3896402533e-59\n",
        "P_O = "
       ]
      },
      {
       "output_type": "stream",
       "stream": "stdout",
       "text": [
        " 2.04361372401e-184\n",
        "P_O = "
       ]
      },
      {
       "output_type": "stream",
       "stream": "stdout",
       "text": [
        " 1.81320972268e-69\n",
        "P_O = "
       ]
      },
      {
       "output_type": "stream",
       "stream": "stdout",
       "text": [
        " 2.65547376239e-121\n",
        "P_O = "
       ]
      },
      {
       "output_type": "stream",
       "stream": "stdout",
       "text": [
        " 2.13151051074e-112\n",
        "P_O = "
       ]
      },
      {
       "output_type": "stream",
       "stream": "stdout",
       "text": [
        " 1.56787178338e-87\n",
        "P_O = "
       ]
      },
      {
       "output_type": "stream",
       "stream": "stdout",
       "text": [
        " 1.68030647997e-76\n",
        "P_O = "
       ]
      },
      {
       "output_type": "stream",
       "stream": "stdout",
       "text": [
        " 1.0542892415e-57\n",
        "P_O = "
       ]
      },
      {
       "output_type": "stream",
       "stream": "stdout",
       "text": [
        " 1.72119158861e-28\n",
        "P_O = "
       ]
      },
      {
       "output_type": "stream",
       "stream": "stdout",
       "text": [
        " 9.72231329625e-97\n",
        "P_O = "
       ]
      },
      {
       "output_type": "stream",
       "stream": "stdout",
       "text": [
        " 3.08152296619e-53\n",
        "P_O = "
       ]
      },
      {
       "output_type": "stream",
       "stream": "stdout",
       "text": [
        " 5.7995736786e-68\n",
        "P_O = "
       ]
      },
      {
       "output_type": "stream",
       "stream": "stdout",
       "text": [
        " 3.08938374566e-28\n",
        "P_O = "
       ]
      },
      {
       "output_type": "stream",
       "stream": "stdout",
       "text": [
        " 1.11977365764e-107\n",
        "P_O = "
       ]
      },
      {
       "output_type": "stream",
       "stream": "stdout",
       "text": [
        " 3.17694505155e-120\n",
        "P_O = "
       ]
      },
      {
       "output_type": "stream",
       "stream": "stdout",
       "text": [
        " 4.59560280306e-50\n",
        "P_O = "
       ]
      },
      {
       "output_type": "stream",
       "stream": "stdout",
       "text": [
        " 1.06126031594e-51\n",
        "P_O = "
       ]
      },
      {
       "output_type": "stream",
       "stream": "stdout",
       "text": [
        " 1.97970553303e-110\n",
        "P_O = "
       ]
      },
      {
       "output_type": "stream",
       "stream": "stdout",
       "text": [
        " 2.51878586041e-89\n",
        "P_O = "
       ]
      },
      {
       "output_type": "stream",
       "stream": "stdout",
       "text": [
        " 7.44272094268e-103\n",
        "P_O = "
       ]
      },
      {
       "output_type": "stream",
       "stream": "stdout",
       "text": [
        " 7.82686175253e-73\n",
        "P_O = "
       ]
      },
      {
       "output_type": "stream",
       "stream": "stdout",
       "text": [
        " 4.2379168784e-86\n",
        "P_O = "
       ]
      },
      {
       "output_type": "stream",
       "stream": "stdout",
       "text": [
        " 1.83216638914e-74\n",
        "P_O = "
       ]
      },
      {
       "output_type": "stream",
       "stream": "stdout",
       "text": [
        " 1.72271770039e-22\n",
        "P_O = "
       ]
      },
      {
       "output_type": "stream",
       "stream": "stdout",
       "text": [
        " 1.1140592591e-137\n",
        "P_O = "
       ]
      },
      {
       "output_type": "stream",
       "stream": "stdout",
       "text": [
        " 5.9549725461e-28\n",
        "P_O = "
       ]
      },
      {
       "output_type": "stream",
       "stream": "stdout",
       "text": [
        " 1.07005213025e-79\n",
        "P_O = "
       ]
      },
      {
       "output_type": "stream",
       "stream": "stdout",
       "text": [
        " 5.1028341603e-85\n",
        "P_O = "
       ]
      },
      {
       "output_type": "stream",
       "stream": "stdout",
       "text": [
        " 1.80078495731e-33\n",
        "P_O = "
       ]
      },
      {
       "output_type": "stream",
       "stream": "stdout",
       "text": [
        " 8.70030983864e-41\n",
        "P_O = "
       ]
      },
      {
       "output_type": "stream",
       "stream": "stdout",
       "text": [
        " 3.69768806732e-55\n",
        "P_O = "
       ]
      },
      {
       "output_type": "stream",
       "stream": "stdout",
       "text": [
        " 1.4278561281e-39\n",
        "P_O = "
       ]
      },
      {
       "output_type": "stream",
       "stream": "stdout",
       "text": [
        " 1.18600482908e-52\n",
        "P_O = "
       ]
      },
      {
       "output_type": "stream",
       "stream": "stdout",
       "text": [
        " 1.10917175503e-63\n",
        "P_O = "
       ]
      },
      {
       "output_type": "stream",
       "stream": "stdout",
       "text": [
        " 3.50795086559e-87\n",
        "P_O = "
       ]
      },
      {
       "output_type": "stream",
       "stream": "stdout",
       "text": [
        " 5.6685731227e-141\n",
        "P_O = "
       ]
      },
      {
       "output_type": "stream",
       "stream": "stdout",
       "text": [
        " 5.78430519527e-199\n",
        "P_O = "
       ]
      },
      {
       "output_type": "stream",
       "stream": "stdout",
       "text": [
        " 1.26580902299e-10\n",
        "P_O = "
       ]
      },
      {
       "output_type": "stream",
       "stream": "stdout",
       "text": [
        " 8.80205962234e-204\n",
        "P_O = "
       ]
      },
      {
       "output_type": "stream",
       "stream": "stdout",
       "text": [
        " 1.47862020206e-121\n",
        "P_O = "
       ]
      },
      {
       "output_type": "stream",
       "stream": "stdout",
       "text": [
        " 5.86199676843e-87\n",
        "P_O = "
       ]
      },
      {
       "output_type": "stream",
       "stream": "stdout",
       "text": [
        " 1.62088814379e-91\n",
        "P_O = "
       ]
      },
      {
       "output_type": "stream",
       "stream": "stdout",
       "text": [
        " 7.75484287892e-80\n",
        "P_O = "
       ]
      },
      {
       "output_type": "stream",
       "stream": "stdout",
       "text": [
        " 1.8203023805e-96\n",
        "P_O = "
       ]
      },
      {
       "output_type": "stream",
       "stream": "stdout",
       "text": [
        " 2.61941150999e-46\n",
        "P_O = "
       ]
      },
      {
       "output_type": "stream",
       "stream": "stdout",
       "text": [
        " 1.55640064859e-57\n",
        "P_O = "
       ]
      },
      {
       "output_type": "stream",
       "stream": "stdout",
       "text": [
        " 8.03138025895e-26\n",
        "P_O = "
       ]
      },
      {
       "output_type": "stream",
       "stream": "stdout",
       "text": [
        " 7.49417317595e-97\n",
        "P_O = "
       ]
      },
      {
       "output_type": "stream",
       "stream": "stdout",
       "text": [
        " 2.0422514789e-75\n",
        "P_O = "
       ]
      },
      {
       "output_type": "stream",
       "stream": "stdout",
       "text": [
        " 2.81996288567e-140\n",
        "P_O = "
       ]
      },
      {
       "output_type": "stream",
       "stream": "stdout",
       "text": [
        " 4.09658236104e-49\n",
        "P_O = "
       ]
      },
      {
       "output_type": "stream",
       "stream": "stdout",
       "text": [
        " 1.2791739954e-61\n",
        "P_O = "
       ]
      },
      {
       "output_type": "stream",
       "stream": "stdout",
       "text": [
        " 2.08509747747e-36\n",
        "P_O = "
       ]
      },
      {
       "output_type": "stream",
       "stream": "stdout",
       "text": [
        " 1.92300040879e-144\n",
        "P_O = "
       ]
      },
      {
       "output_type": "stream",
       "stream": "stdout",
       "text": [
        " 4.09658236104e-49\n",
        "P_O = "
       ]
      },
      {
       "output_type": "stream",
       "stream": "stdout",
       "text": [
        " 1.59261608164e-50\n",
        "P_O = "
       ]
      },
      {
       "output_type": "stream",
       "stream": "stdout",
       "text": [
        " 1.05436586034e-61\n",
        "P_O = "
       ]
      },
      {
       "output_type": "stream",
       "stream": "stdout",
       "text": [
        " 9.11197595037e-143\n",
        "P_O = "
       ]
      },
      {
       "output_type": "stream",
       "stream": "stdout",
       "text": [
        " 5.4696521246e-42\n",
        "P_O = "
       ]
      },
      {
       "output_type": "stream",
       "stream": "stdout",
       "text": [
        " 4.01926937652e-66\n",
        "P_O = "
       ]
      },
      {
       "output_type": "stream",
       "stream": "stdout",
       "text": [
        " 2.96003805142e-129\n",
        "P_O = "
       ]
      },
      {
       "output_type": "stream",
       "stream": "stdout",
       "text": [
        " 8.21204134072e-82\n",
        "P_O = "
       ]
      },
      {
       "output_type": "stream",
       "stream": "stdout",
       "text": [
        " 1.09843251937e-38\n",
        "P_O = "
       ]
      },
      {
       "output_type": "stream",
       "stream": "stdout",
       "text": [
        " 7.16227674286e-41\n",
        "P_O = "
       ]
      },
      {
       "output_type": "stream",
       "stream": "stdout",
       "text": [
        " 1.12909035544e-114\n",
        "P_O = "
       ]
      },
      {
       "output_type": "stream",
       "stream": "stdout",
       "text": [
        " 2.14517012021e-67\n",
        "P_O = "
       ]
      },
      {
       "output_type": "stream",
       "stream": "stdout",
       "text": [
        " 1.61059673187e-35\n",
        "P_O = "
       ]
      },
      {
       "output_type": "stream",
       "stream": "stdout",
       "text": [
        " 3.28619775508e-94\n",
        "P_O = "
       ]
      },
      {
       "output_type": "stream",
       "stream": "stdout",
       "text": [
        " 4.94269515054e-50\n",
        "P_O = "
       ]
      },
      {
       "output_type": "stream",
       "stream": "stdout",
       "text": [
        " 4.82742936353e-114\n",
        "P_O = "
       ]
      },
      {
       "output_type": "stream",
       "stream": "stdout",
       "text": [
        " 4.30033688582e-55\n",
        "P_O = "
       ]
      },
      {
       "output_type": "stream",
       "stream": "stdout",
       "text": [
        " 7.6059248052e-166\n",
        "P_O = "
       ]
      },
      {
       "output_type": "stream",
       "stream": "stdout",
       "text": [
        " 5.32735411055e-98\n",
        "P_O = "
       ]
      },
      {
       "output_type": "stream",
       "stream": "stdout",
       "text": [
        " 5.79415345051e-107\n",
        "P_O = "
       ]
      },
      {
       "output_type": "stream",
       "stream": "stdout",
       "text": [
        " 1.0588900362e-98\n",
        "P_O = "
       ]
      },
      {
       "output_type": "stream",
       "stream": "stdout",
       "text": [
        " 5.57076698847e-143\n",
        "P_O = "
       ]
      },
      {
       "output_type": "stream",
       "stream": "stdout",
       "text": [
        " 1.25419200812e-66\n",
        "P_O = "
       ]
      },
      {
       "output_type": "stream",
       "stream": "stdout",
       "text": [
        " 5.25184537608e-79\n",
        "P_O = "
       ]
      },
      {
       "output_type": "stream",
       "stream": "stdout",
       "text": [
        " 4.51815290316e-58\n",
        "P_O = "
       ]
      },
      {
       "output_type": "stream",
       "stream": "stdout",
       "text": [
        " 5.83360192927e-85\n",
        "P_O = "
       ]
      },
      {
       "output_type": "stream",
       "stream": "stdout",
       "text": [
        " 1.0958049125e-125\n",
        "P_O = "
       ]
      },
      {
       "output_type": "stream",
       "stream": "stdout",
       "text": [
        " 1.64024339302e-24\n",
        "P_O = "
       ]
      },
      {
       "output_type": "stream",
       "stream": "stdout",
       "text": [
        " 2.1590335105e-100\n",
        "P_O = "
       ]
      },
      {
       "output_type": "stream",
       "stream": "stdout",
       "text": [
        " 1.88272473288e-73\n",
        "P_O = "
       ]
      },
      {
       "output_type": "stream",
       "stream": "stderr",
       "text": [
        "step 6/step6.py:215: RuntimeWarning: invalid value encountered in double_scalars\n",
        "  XI_table[i][j] = XI_table[i][j] + (alpha_table[t][i] * A_set1_table[i][j] * B_set1_table[j][Ot1] * beta_table[t+1][j])/P_O\n",
        "step 6/step6.py:220: RuntimeWarning: invalid value encountered in double_scalars\n",
        "  XI_table[0][i] = XI_table[0][i] + 1 * A_set1_table[0][i] * B_set1_table[i][Ot1] * beta_table[1][i] / P_O\n"
       ]
      },
      {
       "output_type": "stream",
       "stream": "stdout",
       "text": [
        " 0.0\n",
        "P_O = "
       ]
      },
      {
       "output_type": "stream",
       "stream": "stdout",
       "text": [
        " 2.33059855666e-297\n",
        "P_O = "
       ]
      },
      {
       "output_type": "stream",
       "stream": "stdout",
       "text": [
        " 4.38759538176e-111\n",
        "P_O = "
       ]
      },
      {
       "output_type": "stream",
       "stream": "stdout",
       "text": [
        " 4.88537121402e-56\n",
        "P_O = "
       ]
      },
      {
       "output_type": "stream",
       "stream": "stdout",
       "text": [
        " 0.0\n",
        "P_O = "
       ]
      },
      {
       "output_type": "stream",
       "stream": "stdout",
       "text": [
        " 0.0\n",
        "P_O = "
       ]
      },
      {
       "output_type": "stream",
       "stream": "stdout",
       "text": [
        " 5.60556243883e-258\n",
        "P_O = "
       ]
      },
      {
       "output_type": "stream",
       "stream": "stdout",
       "text": [
        " 6.66203501803e-97\n",
        "P_O = "
       ]
      },
      {
       "output_type": "stream",
       "stream": "stdout",
       "text": [
        " 4.16401175731e-138\n",
        "P_O = "
       ]
      },
      {
       "output_type": "stream",
       "stream": "stdout",
       "text": [
        " 0.0\n",
        "P_O = "
       ]
      },
      {
       "output_type": "stream",
       "stream": "stdout",
       "text": [
        " 1.13838037501e-60\n",
        "P_O = "
       ]
      },
      {
       "output_type": "stream",
       "stream": "stdout",
       "text": [
        " 1.30236626163e-30\n",
        "P_O = "
       ]
      },
      {
       "output_type": "stream",
       "stream": "stdout",
       "text": [
        " 2.77003840899e-118\n",
        "P_O = "
       ]
      },
      {
       "output_type": "stream",
       "stream": "stdout",
       "text": [
        " 9.4929003475e-87\n",
        "P_O = "
       ]
      },
      {
       "output_type": "stream",
       "stream": "stdout",
       "text": [
        " 4.09057023221e-90\n",
        "P_O = "
       ]
      },
      {
       "output_type": "stream",
       "stream": "stdout",
       "text": [
        " 4.58024336238e-118\n",
        "P_O = "
       ]
      },
      {
       "output_type": "stream",
       "stream": "stdout",
       "text": [
        " 9.52912185432e-98\n",
        "P_O = "
       ]
      },
      {
       "output_type": "stream",
       "stream": "stdout",
       "text": [
        " 1.59498208618e-39\n",
        "P_O = "
       ]
      },
      {
       "output_type": "stream",
       "stream": "stdout",
       "text": [
        " 1.99595030922e-71\n",
        "P_O = "
       ]
      },
      {
       "output_type": "stream",
       "stream": "stdout",
       "text": [
        " 5.09321768042e-159\n"
       ]
      },
      {
       "output_type": "stream",
       "stream": "stderr",
       "text": [
        "step 6/step6.py:225: RuntimeWarning: invalid value encountered in double_scalars\n",
        "  XI_table[i][num_tags - 1] = XI_table[i][num_tags - 1] + alpha_table[T][i] * A_set1_table[i][num_tags - 1] * 1 * 1 / P_O\n",
        "step 6/step6.py:231: RuntimeWarning: invalid value encountered in double_scalars\n",
        "  GAMMA_table[j][Ok] = GAMMA_table[j][Ok] + alpha_table[t][j] * beta_table[t][j] / P_O\n"
       ]
      },
      {
       "ename": "KeyboardInterrupt",
       "evalue": "",
       "output_type": "pyerr",
       "traceback": [
        "\u001b[0;31m---------------------------------------------------------------------------\u001b[0m\n\u001b[0;31mKeyboardInterrupt\u001b[0m                         Traceback (most recent call last)",
        "\u001b[0;32m/Users/lawrencemacbook/Documents/GitHub/CSE5525HW2/step 6/step6.py\u001b[0m in \u001b[0;36m<module>\u001b[0;34m()\u001b[0m\n\u001b[1;32m    173\u001b[0m             \u001b[0;32mfor\u001b[0m \u001b[0mi\u001b[0m \u001b[0;32min\u001b[0m \u001b[0mxrange\u001b[0m\u001b[0;34m(\u001b[0m\u001b[0;36m1\u001b[0m\u001b[0;34m,\u001b[0m \u001b[0mnum_tags\u001b[0m \u001b[0;34m-\u001b[0m \u001b[0;36m1\u001b[0m\u001b[0;34m)\u001b[0m\u001b[0;34m:\u001b[0m\u001b[0;34m\u001b[0m\u001b[0m\n\u001b[1;32m    174\u001b[0m                 \u001b[0;32mfor\u001b[0m \u001b[0mj\u001b[0m \u001b[0;32min\u001b[0m \u001b[0mxrange\u001b[0m\u001b[0;34m(\u001b[0m\u001b[0;36m1\u001b[0m\u001b[0;34m,\u001b[0m \u001b[0mnum_tags\u001b[0m \u001b[0;34m-\u001b[0m \u001b[0;36m1\u001b[0m\u001b[0;34m)\u001b[0m\u001b[0;34m:\u001b[0m\u001b[0;34m\u001b[0m\u001b[0m\n\u001b[0;32m--> 175\u001b[0;31m                     \u001b[0malpha_table\u001b[0m\u001b[0;34m[\u001b[0m\u001b[0mt\u001b[0m\u001b[0;34m]\u001b[0m\u001b[0;34m[\u001b[0m\u001b[0mi\u001b[0m\u001b[0;34m]\u001b[0m \u001b[0;34m=\u001b[0m \u001b[0malpha_table\u001b[0m\u001b[0;34m[\u001b[0m\u001b[0mt\u001b[0m\u001b[0;34m]\u001b[0m\u001b[0;34m[\u001b[0m\u001b[0mi\u001b[0m\u001b[0;34m]\u001b[0m \u001b[0;34m+\u001b[0m \u001b[0malpha_table\u001b[0m\u001b[0;34m[\u001b[0m\u001b[0mt\u001b[0m\u001b[0;34m-\u001b[0m\u001b[0;36m1\u001b[0m\u001b[0;34m]\u001b[0m\u001b[0;34m[\u001b[0m\u001b[0mj\u001b[0m\u001b[0;34m]\u001b[0m \u001b[0;34m*\u001b[0m \u001b[0mA_set1_table\u001b[0m\u001b[0;34m[\u001b[0m\u001b[0mj\u001b[0m\u001b[0;34m]\u001b[0m\u001b[0;34m[\u001b[0m\u001b[0mi\u001b[0m\u001b[0;34m]\u001b[0m \u001b[0;31m#* B_set1_table[i][Ot]\u001b[0m\u001b[0;34m\u001b[0m\u001b[0m\n\u001b[0m\u001b[1;32m    176\u001b[0m                 \u001b[0malpha_table\u001b[0m\u001b[0;34m[\u001b[0m\u001b[0mt\u001b[0m\u001b[0;34m]\u001b[0m\u001b[0;34m[\u001b[0m\u001b[0mi\u001b[0m\u001b[0;34m]\u001b[0m \u001b[0;34m=\u001b[0m \u001b[0malpha_table\u001b[0m\u001b[0;34m[\u001b[0m\u001b[0mt\u001b[0m\u001b[0;34m]\u001b[0m\u001b[0;34m[\u001b[0m\u001b[0mi\u001b[0m\u001b[0;34m]\u001b[0m \u001b[0;34m*\u001b[0m \u001b[0mB_set1_table\u001b[0m\u001b[0;34m[\u001b[0m\u001b[0mi\u001b[0m\u001b[0;34m]\u001b[0m\u001b[0;34m[\u001b[0m\u001b[0mOt\u001b[0m\u001b[0;34m]\u001b[0m\u001b[0;34m\u001b[0m\u001b[0m\n\u001b[1;32m    177\u001b[0m \u001b[0;34m\u001b[0m\u001b[0m\n",
        "\u001b[0;31mKeyboardInterrupt\u001b[0m: "
       ]
      }
     ],
     "prompt_number": 6
    },
    {
     "cell_type": "code",
     "collapsed": false,
     "input": [
      "len(set(set1_tags))"
     ],
     "language": "python",
     "metadata": {},
     "outputs": [
      {
       "metadata": {},
       "output_type": "pyout",
       "prompt_number": 49,
       "text": [
        "47"
       ]
      }
     ],
     "prompt_number": 49
    },
    {
     "cell_type": "code",
     "collapsed": false,
     "input": [
      "for tag_1 in set(full_tags):\n",
      "      # A_table[dict_tags[tag_1]][dict_tags[tag_2]] = set1_cpd_tags[tag_1].prob(tag_2)\n",
      "        #print tag_1, ' ', tag_2, ' ', full_cpd_tags[tag_1].prob(tag_2)\n",
      "        print tag_1,' ', full_cfd_word_tag[tag_1]\n"
     ],
     "language": "python",
     "metadata": {},
     "outputs": [
      {
       "output_type": "stream",
       "stream": "stdout",
       "text": [
        "PRP$   <FreqDist with 13 samples and 707 outcomes>\n",
        "VBG   <FreqDist with 531 samples and 1303 outcomes>\n",
        "VBD   <FreqDist with 480 samples and 2680 outcomes>\n",
        "``   <FreqDist with 2 samples and 668 outcomes>\n",
        "VBN   <FreqDist with 646 samples and 1916 outcomes>\n",
        "POS   <FreqDist with 2 samples and 727 outcomes>\n",
        "''   <FreqDist with 2 samples and 651 outcomes>\n",
        "VBP   <FreqDist with 276 samples and 1220 outcomes>\n",
        "WDT   <FreqDist with 6 samples and 397 outcomes>\n",
        "JJ   <FreqDist with 1647 samples and 5250 outcomes>\n",
        "WP   <FreqDist with 5 samples and 228 outcomes>\n",
        "VBZ   <FreqDist with 304 samples and 1949 outcomes>\n",
        "DT   <FreqDist with 39 samples and 7314 outcomes>\n",
        "#   <FreqDist with 1 samples and 16 outcomes>\n",
        "RP   <FreqDist with 15 samples and 193 outcomes>\n",
        "$   <FreqDist with 3 samples and 613 outcomes>\n",
        "NN   <FreqDist with 2482 samples and 11664 outcomes>\n",
        "FW   <FreqDist with 4 samples and 4 outcomes>\n",
        ",   <FreqDist with 2 samples and 4432 outcomes>\n",
        ".   <FreqDist with 3 samples and 3468 outcomes>\n",
        "TO   <FreqDist with 3 samples and 1956 outcomes>\n",
        "PRP   <FreqDist with 25 samples and 1600 outcomes>\n",
        "RB   <FreqDist with 431 samples and 2574 outcomes>\n",
        "-LRB-   <FreqDist with 2 samples and 108 outcomes>\n",
        ":   <FreqDist with 5 samples and 524 outcomes>\n",
        "NNS   <FreqDist with 1359 samples and 5436 outcomes>\n",
        "NNP   <FreqDist with 2316 samples and 8438 outcomes>\n",
        "VB   <FreqDist with 656 samples and 2293 outcomes>\n",
        "WRB   <FreqDist with 9 samples and 159 outcomes>\n",
        "CC   <FreqDist with 17 samples and 2039 outcomes>\n",
        "LS   <FreqDist with 7 samples and 13 outcomes>\n",
        "PDT   <FreqDist with 5 samples and 23 outcomes>\n",
        "RBS   <FreqDist with 2 samples and 34 outcomes>\n",
        "RBR   <FreqDist with 16 samples and 125 outcomes>\n",
        "CD   <FreqDist with 863 samples and 3128 outcomes>\n",
        "-NONE-   <FreqDist with 440 samples and 5892 outcomes>\n",
        "T   <FreqDist with 1 samples and 3500 outcomes>\n",
        "IN   <FreqDist with 117 samples and 8852 outcomes>\n",
        "WP$   <FreqDist with 1 samples and 10 outcomes>\n",
        "MD   <FreqDist with 16 samples and 818 outcomes>\n",
        "NNPS   <FreqDist with 98 samples and 216 outcomes>\n",
        "-RRB-   <FreqDist with 2 samples and 114 outcomes>\n",
        "JJS   <FreqDist with 29 samples and 160 outcomes>\n",
        "S   <FreqDist with 1 samples and 3500 outcomes>\n",
        "SYM   <FreqDist with 1 samples and 1 outcomes>\n",
        "UH   <FreqDist with 3 samples and 3 outcomes>\n",
        "JJR   <FreqDist with 46 samples and 346 outcomes>\n",
        "EX   <FreqDist with 2 samples and 85 outcomes>\n"
       ]
      }
     ],
     "prompt_number": 46
    },
    {
     "cell_type": "code",
     "collapsed": false,
     "input": [
      "def viterbi(obs, states, start_p, trans_p, emit_p):\n",
      "    V = [{}]\n",
      "    path = ['']\n",
      "    epsilon = 0.00000000000000000001\n",
      " \n",
      "    # Initialize base cases (t == 0)\n",
      "    max_v = -1.0 / epsilon / 1000\n",
      "    for y in states:\n",
      "        # print y\n",
      "        temp_emit = emit_p[y].prob(obs[0])\n",
      "        if temp_emit < epsilon:\n",
      "            temp_emit = epsilon\n",
      "        V[0][y] = math.log(start_p[y]) + math.log(temp_emit)\n",
      "        if max_v < V[0][y]: \n",
      "            max_v = V[0][y]          \n",
      "            path[0] = y\n",
      " \n",
      "    # print V[0]\n",
      "    # Run Viterbi for t > 0\n",
      "    for t in range(1, len(obs)):\n",
      "        # print t, \n",
      "        V.append({})\n",
      "        path.append('')\n",
      "        max_v = -1.0 / epsilon\n",
      "        for y in states:\n",
      "            \n",
      "            if y == \"<s>\":\n",
      "                V[t][y] = max_v\n",
      "            else:\n",
      "                temp = list()\n",
      "                for y0 in states: \n",
      "                    temp_trans = trans_p[y0].prob(y)\n",
      "                    if temp_trans < epsilon:\n",
      "                        temp_trans = epsilon\n",
      "                    temp_prev_v = V[t-1][y0]\n",
      "                    if temp_prev_v < epsilon:\n",
      "                        temp_prev_v = epsilon\n",
      "                    temp.append((math.log(temp_prev_v) + math.log(temp_trans)))\n",
      "\n",
      "                temp_emit = emit_p[y].prob(obs[t])\n",
      "                if temp_emit < epsilon:\n",
      "                    temp_emit = epsilon\n",
      "                prob = math.log(temp_emit) + max(temp)\n",
      "                V[t][y] = prob\n",
      "                if max_v < prob:              \n",
      "                    max_v = prob\n",
      "                    path[t] = y\n",
      "            \n",
      "    return path\n"
     ],
     "language": "python",
     "metadata": {},
     "outputs": [],
     "prompt_number": 145
    },
    {
     "cell_type": "code",
     "collapsed": false,
     "input": [
      "C_table = {}\n",
      "for tag in full_tag_set:\n",
      "    C_table[tag] = 0.00000000000000000001\n",
      "C_table['<s>'] = 1.0\n",
      "\n",
      "print C_table"
     ],
     "language": "python",
     "metadata": {},
     "outputs": [
      {
       "output_type": "stream",
       "stream": "stdout",
       "text": [
        "{u'PRP$': 1e-20, u'VBG': 1e-20, u'FW': 1e-20, u'VBN': 1e-20, u',': 1e-20, u\"''\": 1e-20, u'VBP': 1e-20, u'WDT': 1e-20, u'JJ': 1e-20, u'WP': 1e-20, u'VBZ': 1e-20, u'DT': 1e-20, '</s>': 1e-20, u'#': 1e-20, u'RP': 1e-20, u'$': 1e-20, u'NN': 1e-20, '<s>': 1.0, u'VBD': 1e-20, u'POS': 1e-20, u'.': 1e-20, u'TO': 1e-20, u'PRP': 1e-20, u'RB': 1e-20, u'-LRB-': 1e-20, u':': 1e-20, u'NNS': 1e-20, u'NNP': 1e-20, u'``': 1e-20, u'WRB': 1e-20, u'CC': 1e-20, u'LS': 1e-20, u'PDT': 1e-20, u'RBS': 1e-20, u'RBR': 1e-20, u'CD': 1e-20, u'-NONE-': 1e-20, u'EX': 1e-20, u'IN': 1e-20, u'WP$': 1e-20, u'MD': 1e-20, u'NNPS': 1e-20, u'-RRB-': 1e-20, u'JJS': 1e-20, u'JJR': 1e-20, u'SYM': 1e-20, u'VB': 1e-20, u'UH': 1e-20}\n"
       ]
      }
     ],
     "prompt_number": 148
    },
    {
     "cell_type": "code",
     "collapsed": false,
     "input": [
      "test_obs = ['<s>', 'Pierre', 'Viken' , ',' , '61' , \"years\", \"old\", \"will\", \"join\", \"the\", \"board\", \"as\", \"a\", \"nonexecutive\", \"director\", \"Nov.\", \"29\",\".\", \"</s>\"]\n",
      "#test_obs = ['Pierre', 'Viken']\n",
      "print viterbi(test_obs, full_tag_set, C_table, set1_cpd_tags, set1_cpd_word_tag )"
     ],
     "language": "python",
     "metadata": {},
     "outputs": [
      {
       "output_type": "stream",
       "stream": "stdout",
       "text": [
        "['<s>', u'NNP', u'NNP', u',', u'CD', u'NNS', u'JJ', u'MD', u'VB', u'DT', u'NN', u'IN', u'DT', u'JJ', u'NN', u'NNP', u'CD', u'.', '</s>']\n"
       ]
      }
     ],
     "prompt_number": 149
    },
    {
     "cell_type": "code",
     "collapsed": false,
     "input": [],
     "language": "python",
     "metadata": {},
     "outputs": [],
     "prompt_number": 150
    },
    {
     "cell_type": "code",
     "collapsed": false,
     "input": [
      "full_obs_set = []\n",
      "for sent in full_training_set:\n",
      "    full_obs_set.append([ word for (word, tag) in sent ])\n",
      "for i in xrange(len(full_obs_set)):\n",
      "    full_obs_set[i].append('</s>')\n",
      "    full_obs_set[i].insert(0, '<s>')\n"
     ],
     "language": "python",
     "metadata": {},
     "outputs": [],
     "prompt_number": 157
    },
    {
     "cell_type": "code",
     "collapsed": false,
     "input": [
      "full_obs_set[3]"
     ],
     "language": "python",
     "metadata": {},
     "outputs": [
      {
       "metadata": {},
       "output_type": "pyout",
       "prompt_number": 164,
       "text": [
        "['<s>',\n",
        " u'A',\n",
        " u'form',\n",
        " u'of',\n",
        " u'asbestos',\n",
        " u'once',\n",
        " u'used',\n",
        " u'*',\n",
        " u'*',\n",
        " u'to',\n",
        " u'make',\n",
        " u'Kent',\n",
        " u'cigarette',\n",
        " u'filters',\n",
        " u'has',\n",
        " u'caused',\n",
        " u'a',\n",
        " u'high',\n",
        " u'percentage',\n",
        " u'of',\n",
        " u'cancer',\n",
        " u'deaths',\n",
        " u'among',\n",
        " u'a',\n",
        " u'group',\n",
        " u'of',\n",
        " u'workers',\n",
        " u'exposed',\n",
        " u'*',\n",
        " u'to',\n",
        " u'it',\n",
        " u'more',\n",
        " u'than',\n",
        " u'30',\n",
        " u'years',\n",
        " u'ago',\n",
        " u',',\n",
        " u'researchers',\n",
        " u'reported',\n",
        " u'0',\n",
        " u'*T*-1',\n",
        " u'.',\n",
        " '</s>']"
       ]
      }
     ],
     "prompt_number": 164
    },
    {
     "cell_type": "code",
     "collapsed": false,
     "input": [
      "print viterbi(full_obs_set[3], full_tag_set, C_table, set1_cpd_tags, set1_cpd_word_tag )"
     ],
     "language": "python",
     "metadata": {},
     "outputs": [
      {
       "output_type": "stream",
       "stream": "stdout",
       "text": [
        "['<s>', u'DT', u'NN', u'IN', u'NN', u'RB', u'VBN', u'-NONE-', u'-NONE-', u'TO', u'VB', u'NNP', u'NN', u'NNS', u'VBZ', u'VBN', u'DT', u'JJ', u'NN', u'IN', u'NN', u'NNS', u'IN', u'DT', u'NN', u'IN', u'NNS', u'VBN', u'-NONE-', u'TO', u'PRP', u'RBR', u'IN', u'CD', u'NNS', u'RB', u',', u'NNS', u'VBD', u'-NONE-', u'-NONE-', u'.', '</s>']\n"
       ]
      }
     ],
     "prompt_number": 163
    },
    {
     "cell_type": "code",
     "collapsed": false,
     "input": [
      "%run main3.py"
     ],
     "language": "python",
     "metadata": {},
     "outputs": [
      {
       "ename": "KeyboardInterrupt",
       "evalue": "",
       "output_type": "pyerr",
       "traceback": [
        "\u001b[0;31m---------------------------------------------------------------------------\u001b[0m\n\u001b[0;31mKeyboardInterrupt\u001b[0m                         Traceback (most recent call last)",
        "\u001b[0;32m/Users/lawrencemacbook/Documents/GitHub/CSE5525HW2/main3.py\u001b[0m in \u001b[0;36m<module>\u001b[0;34m()\u001b[0m\n\u001b[1;32m      7\u001b[0m \u001b[0;32mfrom\u001b[0m \u001b[0mviterbi\u001b[0m \u001b[0;32mimport\u001b[0m \u001b[0mviterbi\u001b[0m\u001b[0;34m\u001b[0m\u001b[0m\n\u001b[1;32m      8\u001b[0m \u001b[0;34m\u001b[0m\u001b[0m\n\u001b[0;32m----> 9\u001b[0;31m \u001b[0mfull_training_set\u001b[0m \u001b[0;34m=\u001b[0m \u001b[0mnltk\u001b[0m\u001b[0;34m.\u001b[0m\u001b[0mcorpus\u001b[0m\u001b[0;34m.\u001b[0m\u001b[0mtreebank\u001b[0m\u001b[0;34m.\u001b[0m\u001b[0mtagged_sents\u001b[0m\u001b[0;34m(\u001b[0m\u001b[0;34m)\u001b[0m\u001b[0;34m[\u001b[0m\u001b[0;36m0\u001b[0m\u001b[0;34m:\u001b[0m\u001b[0;36m3500\u001b[0m\u001b[0;34m]\u001b[0m\u001b[0;34m\u001b[0m\u001b[0m\n\u001b[0m\u001b[1;32m     10\u001b[0m \u001b[0mtraining_set1\u001b[0m \u001b[0;34m=\u001b[0m \u001b[0mfull_training_set\u001b[0m\u001b[0;34m[\u001b[0m\u001b[0;36m0\u001b[0m\u001b[0;34m:\u001b[0m\u001b[0;36m1750\u001b[0m\u001b[0;34m]\u001b[0m\u001b[0;34m\u001b[0m\u001b[0m\n\u001b[1;32m     11\u001b[0m \u001b[0mtraining_set2\u001b[0m \u001b[0;34m=\u001b[0m \u001b[0mfull_training_set\u001b[0m\u001b[0;34m[\u001b[0m\u001b[0;36m1750\u001b[0m\u001b[0;34m:\u001b[0m\u001b[0;34m]\u001b[0m\u001b[0;34m\u001b[0m\u001b[0m\n",
        "\u001b[0;32m/usr/local/lib/python2.7/site-packages/nltk/util.pyc\u001b[0m in \u001b[0;36m__getitem__\u001b[0;34m(self, i)\u001b[0m\n\u001b[1;32m    602\u001b[0m         \"\"\"\n\u001b[1;32m    603\u001b[0m         \u001b[0;32mif\u001b[0m \u001b[0misinstance\u001b[0m\u001b[0;34m(\u001b[0m\u001b[0mi\u001b[0m\u001b[0;34m,\u001b[0m \u001b[0mslice\u001b[0m\u001b[0;34m)\u001b[0m\u001b[0;34m:\u001b[0m\u001b[0;34m\u001b[0m\u001b[0m\n\u001b[0;32m--> 604\u001b[0;31m             \u001b[0mstart\u001b[0m\u001b[0;34m,\u001b[0m \u001b[0mstop\u001b[0m \u001b[0;34m=\u001b[0m \u001b[0mslice_bounds\u001b[0m\u001b[0;34m(\u001b[0m\u001b[0mself\u001b[0m\u001b[0;34m,\u001b[0m \u001b[0mi\u001b[0m\u001b[0;34m)\u001b[0m\u001b[0;34m\u001b[0m\u001b[0m\n\u001b[0m\u001b[1;32m    605\u001b[0m             \u001b[0;32mreturn\u001b[0m \u001b[0mLazySubsequence\u001b[0m\u001b[0;34m(\u001b[0m\u001b[0mself\u001b[0m\u001b[0;34m,\u001b[0m \u001b[0mstart\u001b[0m\u001b[0;34m,\u001b[0m \u001b[0mstop\u001b[0m\u001b[0;34m)\u001b[0m\u001b[0;34m\u001b[0m\u001b[0m\n\u001b[1;32m    606\u001b[0m         \u001b[0;32melse\u001b[0m\u001b[0;34m:\u001b[0m\u001b[0;34m\u001b[0m\u001b[0m\n",
        "\u001b[0;32m/usr/local/lib/python2.7/site-packages/nltk/__init__.pyc\u001b[0m in \u001b[0;36mslice_bounds\u001b[0;34m(sequence, slice_obj, allow_step)\u001b[0m\n\u001b[1;32m    842\u001b[0m     \u001b[0;31m# sequences, calculating the length of a sequence can be expensive.\u001b[0m\u001b[0;34m\u001b[0m\u001b[0;34m\u001b[0m\u001b[0m\n\u001b[1;32m    843\u001b[0m     \u001b[0;32mif\u001b[0m \u001b[0mstop\u001b[0m \u001b[0;34m>\u001b[0m \u001b[0;36m0\u001b[0m\u001b[0;34m:\u001b[0m\u001b[0;34m\u001b[0m\u001b[0m\n\u001b[0;32m--> 844\u001b[0;31m         \u001b[0;32mtry\u001b[0m\u001b[0;34m:\u001b[0m \u001b[0msequence\u001b[0m\u001b[0;34m[\u001b[0m\u001b[0mstop\u001b[0m\u001b[0;34m-\u001b[0m\u001b[0;36m1\u001b[0m\u001b[0;34m]\u001b[0m\u001b[0;34m\u001b[0m\u001b[0m\n\u001b[0m\u001b[1;32m    845\u001b[0m         \u001b[0;32mexcept\u001b[0m \u001b[0mIndexError\u001b[0m\u001b[0;34m:\u001b[0m \u001b[0mstop\u001b[0m \u001b[0;34m=\u001b[0m \u001b[0mlen\u001b[0m\u001b[0;34m(\u001b[0m\u001b[0msequence\u001b[0m\u001b[0;34m)\u001b[0m\u001b[0;34m\u001b[0m\u001b[0m\n\u001b[1;32m    846\u001b[0m \u001b[0;34m\u001b[0m\u001b[0m\n",
        "\u001b[0;32m/usr/local/lib/python2.7/site-packages/nltk/util.pyc\u001b[0m in \u001b[0;36m__getitem__\u001b[0;34m(self, i)\u001b[0m\n\u001b[1;32m    610\u001b[0m             \u001b[0;31m# Use iterate_from to extract it.\u001b[0m\u001b[0;34m\u001b[0m\u001b[0;34m\u001b[0m\u001b[0m\n\u001b[1;32m    611\u001b[0m             \u001b[0;32mtry\u001b[0m\u001b[0;34m:\u001b[0m\u001b[0;34m\u001b[0m\u001b[0m\n\u001b[0;32m--> 612\u001b[0;31m                 \u001b[0;32mreturn\u001b[0m \u001b[0mnext\u001b[0m\u001b[0;34m(\u001b[0m\u001b[0mself\u001b[0m\u001b[0;34m.\u001b[0m\u001b[0miterate_from\u001b[0m\u001b[0;34m(\u001b[0m\u001b[0mi\u001b[0m\u001b[0;34m)\u001b[0m\u001b[0;34m)\u001b[0m\u001b[0;34m\u001b[0m\u001b[0m\n\u001b[0m\u001b[1;32m    613\u001b[0m             \u001b[0;32mexcept\u001b[0m \u001b[0mStopIteration\u001b[0m\u001b[0;34m:\u001b[0m\u001b[0;34m\u001b[0m\u001b[0m\n\u001b[1;32m    614\u001b[0m                 \u001b[0;32mraise\u001b[0m \u001b[0mIndexError\u001b[0m\u001b[0;34m(\u001b[0m\u001b[0;34m'index out of range'\u001b[0m\u001b[0;34m)\u001b[0m\u001b[0;34m\u001b[0m\u001b[0m\n",
        "\u001b[0;32m/usr/local/lib/python2.7/site-packages/nltk/corpus/reader/util.pyc\u001b[0m in \u001b[0;36miterate_from\u001b[0;34m(self, start_tok)\u001b[0m\n\u001b[1;32m    392\u001b[0m \u001b[0;34m\u001b[0m\u001b[0m\n\u001b[1;32m    393\u001b[0m             \u001b[0;31m# Get everything we can from this piece.\u001b[0m\u001b[0;34m\u001b[0m\u001b[0;34m\u001b[0m\u001b[0m\n\u001b[0;32m--> 394\u001b[0;31m             \u001b[0;32mfor\u001b[0m \u001b[0mtok\u001b[0m \u001b[0;32min\u001b[0m \u001b[0mpiece\u001b[0m\u001b[0;34m.\u001b[0m\u001b[0miterate_from\u001b[0m\u001b[0;34m(\u001b[0m\u001b[0mmax\u001b[0m\u001b[0;34m(\u001b[0m\u001b[0;36m0\u001b[0m\u001b[0;34m,\u001b[0m \u001b[0mstart_tok\u001b[0m\u001b[0;34m-\u001b[0m\u001b[0moffset\u001b[0m\u001b[0;34m)\u001b[0m\u001b[0;34m)\u001b[0m\u001b[0;34m:\u001b[0m\u001b[0;34m\u001b[0m\u001b[0m\n\u001b[0m\u001b[1;32m    395\u001b[0m                 \u001b[0;32myield\u001b[0m \u001b[0mtok\u001b[0m\u001b[0;34m\u001b[0m\u001b[0m\n\u001b[1;32m    396\u001b[0m \u001b[0;34m\u001b[0m\u001b[0m\n",
        "\u001b[0;32m/usr/local/lib/python2.7/site-packages/nltk/corpus/reader/util.pyc\u001b[0m in \u001b[0;36miterate_from\u001b[0;34m(self, start_tok)\u001b[0m\n\u001b[1;32m    289\u001b[0m             \u001b[0mself\u001b[0m\u001b[0;34m.\u001b[0m\u001b[0m_current_toknum\u001b[0m \u001b[0;34m=\u001b[0m \u001b[0mtoknum\u001b[0m\u001b[0;34m\u001b[0m\u001b[0m\n\u001b[1;32m    290\u001b[0m             \u001b[0mself\u001b[0m\u001b[0;34m.\u001b[0m\u001b[0m_current_blocknum\u001b[0m \u001b[0;34m=\u001b[0m \u001b[0mblock_index\u001b[0m\u001b[0;34m\u001b[0m\u001b[0m\n\u001b[0;32m--> 291\u001b[0;31m             \u001b[0mtokens\u001b[0m \u001b[0;34m=\u001b[0m \u001b[0mself\u001b[0m\u001b[0;34m.\u001b[0m\u001b[0mread_block\u001b[0m\u001b[0;34m(\u001b[0m\u001b[0mself\u001b[0m\u001b[0;34m.\u001b[0m\u001b[0m_stream\u001b[0m\u001b[0;34m)\u001b[0m\u001b[0;34m\u001b[0m\u001b[0m\n\u001b[0m\u001b[1;32m    292\u001b[0m             assert isinstance(tokens, (tuple, list, AbstractLazySequence)), (\n\u001b[1;32m    293\u001b[0m                 \u001b[0;34m'block reader %s() should return list or tuple.'\u001b[0m \u001b[0;34m%\u001b[0m\u001b[0;34m\u001b[0m\u001b[0m\n",
        "\u001b[0;32m/usr/local/lib/python2.7/site-packages/nltk/corpus/reader/api.pyc\u001b[0m in \u001b[0;36mreader\u001b[0;34m(stream)\u001b[0m\n\u001b[1;32m    390\u001b[0m     \u001b[0;32mdef\u001b[0m \u001b[0mtagged_sents\u001b[0m\u001b[0;34m(\u001b[0m\u001b[0mself\u001b[0m\u001b[0;34m,\u001b[0m \u001b[0mfileids\u001b[0m\u001b[0;34m=\u001b[0m\u001b[0mNone\u001b[0m\u001b[0;34m,\u001b[0m \u001b[0mtagset\u001b[0m\u001b[0;34m=\u001b[0m\u001b[0mNone\u001b[0m\u001b[0;34m)\u001b[0m\u001b[0;34m:\u001b[0m\u001b[0;34m\u001b[0m\u001b[0m\n\u001b[1;32m    391\u001b[0m         \u001b[0;32mdef\u001b[0m \u001b[0mreader\u001b[0m\u001b[0;34m(\u001b[0m\u001b[0mstream\u001b[0m\u001b[0;34m)\u001b[0m\u001b[0;34m:\u001b[0m\u001b[0;34m\u001b[0m\u001b[0m\n\u001b[0;32m--> 392\u001b[0;31m             \u001b[0;32mreturn\u001b[0m \u001b[0mself\u001b[0m\u001b[0;34m.\u001b[0m\u001b[0m_read_tagged_sent_block\u001b[0m\u001b[0;34m(\u001b[0m\u001b[0mstream\u001b[0m\u001b[0;34m,\u001b[0m \u001b[0mtagset\u001b[0m\u001b[0;34m)\u001b[0m\u001b[0;34m\u001b[0m\u001b[0m\n\u001b[0m\u001b[1;32m    393\u001b[0m         return concat([StreamBackedCorpusView(fileid, reader, encoding=enc)\n\u001b[1;32m    394\u001b[0m                        for fileid, enc in self.abspaths(fileids, True)])\n",
        "\u001b[0;32m/usr/local/lib/python2.7/site-packages/nltk/corpus/reader/api.pyc\u001b[0m in \u001b[0;36m_read_tagged_sent_block\u001b[0;34m(self, stream, tagset)\u001b[0m\n\u001b[1;32m    425\u001b[0m     \u001b[0;32mdef\u001b[0m \u001b[0m_read_tagged_sent_block\u001b[0m\u001b[0;34m(\u001b[0m\u001b[0mself\u001b[0m\u001b[0;34m,\u001b[0m \u001b[0mstream\u001b[0m\u001b[0;34m,\u001b[0m \u001b[0mtagset\u001b[0m\u001b[0;34m=\u001b[0m\u001b[0mNone\u001b[0m\u001b[0;34m)\u001b[0m\u001b[0;34m:\u001b[0m\u001b[0;34m\u001b[0m\u001b[0m\n\u001b[1;32m    426\u001b[0m         return list(filter(None, [self._tag(t, tagset)\n\u001b[0;32m--> 427\u001b[0;31m                              for t in self._read_block(stream)]))\n\u001b[0m\u001b[1;32m    428\u001b[0m \u001b[0;34m\u001b[0m\u001b[0m\n\u001b[1;32m    429\u001b[0m     \u001b[0;32mdef\u001b[0m \u001b[0m_read_parsed_sent_block\u001b[0m\u001b[0;34m(\u001b[0m\u001b[0mself\u001b[0m\u001b[0;34m,\u001b[0m \u001b[0mstream\u001b[0m\u001b[0;34m)\u001b[0m\u001b[0;34m:\u001b[0m\u001b[0;34m\u001b[0m\u001b[0m\n",
        "\u001b[0;32m/usr/local/lib/python2.7/site-packages/nltk/corpus/reader/bracket_parse.pyc\u001b[0m in \u001b[0;36m_read_block\u001b[0;34m(self, stream)\u001b[0m\n\u001b[1;32m     56\u001b[0m         \u001b[0;32melif\u001b[0m \u001b[0mself\u001b[0m\u001b[0;34m.\u001b[0m\u001b[0m_detect_blocks\u001b[0m \u001b[0;34m==\u001b[0m \u001b[0;34m'unindented_paren'\u001b[0m\u001b[0;34m:\u001b[0m\u001b[0;34m\u001b[0m\u001b[0m\n\u001b[1;32m     57\u001b[0m             \u001b[0;31m# Tokens start with unindented left parens.\u001b[0m\u001b[0;34m\u001b[0m\u001b[0;34m\u001b[0m\u001b[0m\n\u001b[0;32m---> 58\u001b[0;31m             \u001b[0mtoks\u001b[0m \u001b[0;34m=\u001b[0m \u001b[0mread_regexp_block\u001b[0m\u001b[0;34m(\u001b[0m\u001b[0mstream\u001b[0m\u001b[0;34m,\u001b[0m \u001b[0mstart_re\u001b[0m\u001b[0;34m=\u001b[0m\u001b[0;34mr'^\\('\u001b[0m\u001b[0;34m)\u001b[0m\u001b[0;34m\u001b[0m\u001b[0m\n\u001b[0m\u001b[1;32m     59\u001b[0m             \u001b[0;31m# Strip any comments out of the tokens.\u001b[0m\u001b[0;34m\u001b[0m\u001b[0;34m\u001b[0m\u001b[0m\n\u001b[1;32m     60\u001b[0m             \u001b[0;32mif\u001b[0m \u001b[0mself\u001b[0m\u001b[0;34m.\u001b[0m\u001b[0m_comment_char\u001b[0m\u001b[0;34m:\u001b[0m\u001b[0;34m\u001b[0m\u001b[0m\n",
        "\u001b[0;32m/usr/local/lib/python2.7/site-packages/nltk/corpus/reader/util.pyc\u001b[0m in \u001b[0;36mread_regexp_block\u001b[0;34m(stream, start_re, end_re)\u001b[0m\n\u001b[1;32m    599\u001b[0m     \u001b[0;31m# Scan until we find a line matching the start regexp.\u001b[0m\u001b[0;34m\u001b[0m\u001b[0;34m\u001b[0m\u001b[0m\n\u001b[1;32m    600\u001b[0m     \u001b[0;32mwhile\u001b[0m \u001b[0mTrue\u001b[0m\u001b[0;34m:\u001b[0m\u001b[0;34m\u001b[0m\u001b[0m\n\u001b[0;32m--> 601\u001b[0;31m         \u001b[0mline\u001b[0m \u001b[0;34m=\u001b[0m \u001b[0mstream\u001b[0m\u001b[0;34m.\u001b[0m\u001b[0mreadline\u001b[0m\u001b[0;34m(\u001b[0m\u001b[0;34m)\u001b[0m\u001b[0;34m\u001b[0m\u001b[0m\n\u001b[0m\u001b[1;32m    602\u001b[0m         \u001b[0;32mif\u001b[0m \u001b[0;32mnot\u001b[0m \u001b[0mline\u001b[0m\u001b[0;34m:\u001b[0m \u001b[0;32mreturn\u001b[0m \u001b[0;34m[\u001b[0m\u001b[0;34m]\u001b[0m \u001b[0;31m# end of file.\u001b[0m\u001b[0;34m\u001b[0m\u001b[0m\n\u001b[1;32m    603\u001b[0m         \u001b[0;32mif\u001b[0m \u001b[0mre\u001b[0m\u001b[0;34m.\u001b[0m\u001b[0mmatch\u001b[0m\u001b[0;34m(\u001b[0m\u001b[0mstart_re\u001b[0m\u001b[0;34m,\u001b[0m \u001b[0mline\u001b[0m\u001b[0;34m)\u001b[0m\u001b[0;34m:\u001b[0m \u001b[0;32mbreak\u001b[0m\u001b[0;34m\u001b[0m\u001b[0m\n",
        "\u001b[0;32m/usr/local/lib/python2.7/site-packages/nltk/data.pyc\u001b[0m in \u001b[0;36mreadline\u001b[0;34m(self, size)\u001b[0m\n\u001b[1;32m   1093\u001b[0m         \u001b[0;32mwhile\u001b[0m \u001b[0mTrue\u001b[0m\u001b[0;34m:\u001b[0m\u001b[0;34m\u001b[0m\u001b[0m\n\u001b[1;32m   1094\u001b[0m             \u001b[0mstartpos\u001b[0m \u001b[0;34m=\u001b[0m \u001b[0mself\u001b[0m\u001b[0;34m.\u001b[0m\u001b[0mstream\u001b[0m\u001b[0;34m.\u001b[0m\u001b[0mtell\u001b[0m\u001b[0;34m(\u001b[0m\u001b[0;34m)\u001b[0m \u001b[0;34m-\u001b[0m \u001b[0mlen\u001b[0m\u001b[0;34m(\u001b[0m\u001b[0mself\u001b[0m\u001b[0;34m.\u001b[0m\u001b[0mbytebuffer\u001b[0m\u001b[0;34m)\u001b[0m\u001b[0;34m\u001b[0m\u001b[0m\n\u001b[0;32m-> 1095\u001b[0;31m             \u001b[0mnew_chars\u001b[0m \u001b[0;34m=\u001b[0m \u001b[0mself\u001b[0m\u001b[0;34m.\u001b[0m\u001b[0m_read\u001b[0m\u001b[0;34m(\u001b[0m\u001b[0mreadsize\u001b[0m\u001b[0;34m)\u001b[0m\u001b[0;34m\u001b[0m\u001b[0m\n\u001b[0m\u001b[1;32m   1096\u001b[0m \u001b[0;34m\u001b[0m\u001b[0m\n\u001b[1;32m   1097\u001b[0m             \u001b[0;31m# If we're at a '\\r', then read one extra character, since\u001b[0m\u001b[0;34m\u001b[0m\u001b[0;34m\u001b[0m\u001b[0m\n",
        "\u001b[0;32m/usr/local/lib/python2.7/site-packages/nltk/data.pyc\u001b[0m in \u001b[0;36m_read\u001b[0;34m(self, size)\u001b[0m\n\u001b[1;32m   1316\u001b[0m             \u001b[0mnew_bytes\u001b[0m \u001b[0;34m=\u001b[0m \u001b[0mself\u001b[0m\u001b[0;34m.\u001b[0m\u001b[0mstream\u001b[0m\u001b[0;34m.\u001b[0m\u001b[0mread\u001b[0m\u001b[0;34m(\u001b[0m\u001b[0;34m)\u001b[0m\u001b[0;34m\u001b[0m\u001b[0m\n\u001b[1;32m   1317\u001b[0m         \u001b[0;32melse\u001b[0m\u001b[0;34m:\u001b[0m\u001b[0;34m\u001b[0m\u001b[0m\n\u001b[0;32m-> 1318\u001b[0;31m             \u001b[0mnew_bytes\u001b[0m \u001b[0;34m=\u001b[0m \u001b[0mself\u001b[0m\u001b[0;34m.\u001b[0m\u001b[0mstream\u001b[0m\u001b[0;34m.\u001b[0m\u001b[0mread\u001b[0m\u001b[0;34m(\u001b[0m\u001b[0msize\u001b[0m\u001b[0;34m)\u001b[0m\u001b[0;34m\u001b[0m\u001b[0m\n\u001b[0m\u001b[1;32m   1319\u001b[0m         \u001b[0mbytes\u001b[0m \u001b[0;34m=\u001b[0m \u001b[0mself\u001b[0m\u001b[0;34m.\u001b[0m\u001b[0mbytebuffer\u001b[0m \u001b[0;34m+\u001b[0m \u001b[0mnew_bytes\u001b[0m\u001b[0;34m\u001b[0m\u001b[0m\n\u001b[1;32m   1320\u001b[0m \u001b[0;34m\u001b[0m\u001b[0m\n",
        "\u001b[0;31mKeyboardInterrupt\u001b[0m: "
       ]
      }
     ],
     "prompt_number": 1
    },
    {
     "cell_type": "code",
     "collapsed": false,
     "input": [],
     "language": "python",
     "metadata": {},
     "outputs": []
    }
   ],
   "metadata": {}
  }
 ]
}