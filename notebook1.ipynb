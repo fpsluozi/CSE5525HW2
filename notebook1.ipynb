{
 "metadata": {
  "name": "",
  "signature": "sha256:e0e9e9cd6914b36d60dbc0e9fb0bb573ccaf7fe36537b8b18384f2dd7f9c823c"
 },
 "nbformat": 3,
 "nbformat_minor": 0,
 "worksheets": [
  {
   "cells": [
    {
     "cell_type": "code",
     "collapsed": false,
     "input": [
      "# CSE5525 NLP Homework 2 Group 1\n",
      "import nltk\n",
      "import numpy\n",
      "import itertools\n",
      "from nltk.corpus import treebank\n",
      "\n",
      "full_training_set = nltk.corpus.treebank.tagged_sents()[0:3500]\n",
      "training_set1 = full_training_set[0:1750]\n",
      "training_set2 = full_training_set[1750:]\n",
      "test_set = nltk.corpus.treebank.tagged_sents()[3500:]\n",
      "\n",
      "# Step 2: Retrieve P(W_i | T_i) and P(T_i| T_i-1)\n",
      "#\n",
      "# Sample Usage 1: \n",
      "#   print set1_cpd_tags['DT'].prob('JJ')\n",
      "#   meaning print the prob of adjective given determinor from training set 1\n",
      "#\n",
      "# Sample Usage 2: \n",
      "#   print full_cpd_word_tag['DT'].prob('the')\n",
      "#   meaning print the prob of word 'the' given determinor from full training set\n",
      "#\n",
      "# PS. cpd as the Conditional Prob Distribution\n",
      "# PSS. We use Laplace distribution for unseen cases\n",
      "\n",
      "# Full Traning Set\n",
      "full_training_set_words = []\n",
      "for sent in full_training_set:\n",
      "    full_training_set_words.append(('<s>','<s>'))\n",
      "    full_training_set_words.extend([ (tag, word) for (word, tag) in sent ])\n",
      "    full_training_set_words.append(('</s>','</s>'))\n",
      "\n",
      "full_tags = [tag for (tag, word) in full_training_set_words]\n",
      "full_words = [word for (tag, word) in full_training_set_words]\n",
      "\n",
      "full_cfd_word_tag = nltk.ConditionalFreqDist(full_training_set_words)\n",
      "full_cfd_tags = nltk.ConditionalFreqDist(nltk.bigrams(full_tags))\n",
      "\n",
      "for tag_1 in set(full_tags): # Laplace smoothing\n",
      "    for tag_2 in set(full_tags):\n",
      "        if full_cfd_tags[tag_1][tag_2] == 0:\n",
      "            full_cfd_tags[tag_1][tag_2] = 1\n",
      "for tag in set(full_tags): # Laplace smoothing\n",
      "    for word in set(full_words):\n",
      "        if full_cfd_word_tag[tag][word] == 0:\n",
      "            full_cfd_word_tag[tag][word] = 1\n",
      "            \n",
      "full_cpd_word_tag = nltk.ConditionalProbDist(full_cfd_word_tag, nltk.MLEProbDist)\n",
      "full_cpd_tags = nltk.ConditionalProbDist(full_cfd_tags, nltk.MLEProbDist)\n",
      "\n",
      "# Traning Set 1\n",
      "set1_training_set_words = []\n",
      "for sent in training_set1:\n",
      "    set1_training_set_words.append(('<s>','<s>'))\n",
      "    set1_training_set_words.extend([ (tag, word) for (word, tag) in sent ])\n",
      "    set1_training_set_words.append(('</s>','</s>'))\n",
      "\n",
      "set1_tags = [tag for (tag, word) in set1_training_set_words]\n",
      "set1_words = [word for (tag, word) in set1_training_set_words]\n",
      "\n",
      "set1_cfd_word_tag = nltk.ConditionalFreqDist(set1_training_set_words)\n",
      "set1_cfd_tags = nltk.ConditionalFreqDist(nltk.bigrams(set1_tags))\n",
      "\n",
      "for tag_1 in set(set1_tags): # Laplace smoothing\n",
      "    for tag_2 in set(set1_tags):\n",
      "        if set1_cfd_tags[tag_1][tag_2] == 0:\n",
      "            set1_cfd_tags[tag_1][tag_2] = 1\n",
      "for tag in set(set1_tags): # Laplace smoothing\n",
      "    for word in set(set1_words):\n",
      "        if set1_cfd_word_tag[tag][word] == 0:\n",
      "            set1_cfd_word_tag[tag][word] = 1\n",
      "            \n",
      "set1_cpd_word_tag = nltk.ConditionalProbDist(set1_cfd_word_tag, nltk.MLEProbDist)\n",
      "set1_cpd_tags = nltk.ConditionalProbDist(set1_cfd_tags, nltk.MLEProbDist)"
     ],
     "language": "python",
     "metadata": {},
     "outputs": [],
     "prompt_number": 1
    },
    {
     "cell_type": "code",
     "collapsed": false,
     "input": [
      "import numpy"
     ],
     "language": "python",
     "metadata": {},
     "outputs": [],
     "prompt_number": 5
    },
    {
     "cell_type": "code",
     "collapsed": false,
     "input": [
      "full_cfd_tags['DT']['NN']"
     ],
     "language": "python",
     "metadata": {},
     "outputs": [
      {
       "metadata": {},
       "output_type": "pyout",
       "prompt_number": 41,
       "text": [
        "3434"
       ]
      }
     ],
     "prompt_number": 41
    },
    {
     "cell_type": "code",
     "collapsed": false,
     "input": [
      "len(set(set1_tags))"
     ],
     "language": "python",
     "metadata": {},
     "outputs": [
      {
       "metadata": {},
       "output_type": "pyout",
       "prompt_number": 49,
       "text": [
        "47"
       ]
      }
     ],
     "prompt_number": 49
    },
    {
     "cell_type": "code",
     "collapsed": false,
     "input": [
      "for tag_1 in set(full_tags):\n",
      "      # A_table[dict_tags[tag_1]][dict_tags[tag_2]] = set1_cpd_tags[tag_1].prob(tag_2)\n",
      "        #print tag_1, ' ', tag_2, ' ', full_cpd_tags[tag_1].prob(tag_2)\n",
      "        print tag_1,' ', full_cfd_word_tag[tag_1]\n"
     ],
     "language": "python",
     "metadata": {},
     "outputs": [
      {
       "output_type": "stream",
       "stream": "stdout",
       "text": [
        "PRP$   <FreqDist with 13 samples and 707 outcomes>\n",
        "VBG   <FreqDist with 531 samples and 1303 outcomes>\n",
        "VBD   <FreqDist with 480 samples and 2680 outcomes>\n",
        "``   <FreqDist with 2 samples and 668 outcomes>\n",
        "VBN   <FreqDist with 646 samples and 1916 outcomes>\n",
        "POS   <FreqDist with 2 samples and 727 outcomes>\n",
        "''   <FreqDist with 2 samples and 651 outcomes>\n",
        "VBP   <FreqDist with 276 samples and 1220 outcomes>\n",
        "WDT   <FreqDist with 6 samples and 397 outcomes>\n",
        "JJ   <FreqDist with 1647 samples and 5250 outcomes>\n",
        "WP   <FreqDist with 5 samples and 228 outcomes>\n",
        "VBZ   <FreqDist with 304 samples and 1949 outcomes>\n",
        "DT   <FreqDist with 39 samples and 7314 outcomes>\n",
        "#   <FreqDist with 1 samples and 16 outcomes>\n",
        "RP   <FreqDist with 15 samples and 193 outcomes>\n",
        "$   <FreqDist with 3 samples and 613 outcomes>\n",
        "NN   <FreqDist with 2482 samples and 11664 outcomes>\n",
        "FW   <FreqDist with 4 samples and 4 outcomes>\n",
        ",   <FreqDist with 2 samples and 4432 outcomes>\n",
        ".   <FreqDist with 3 samples and 3468 outcomes>\n",
        "TO   <FreqDist with 3 samples and 1956 outcomes>\n",
        "PRP   <FreqDist with 25 samples and 1600 outcomes>\n",
        "RB   <FreqDist with 431 samples and 2574 outcomes>\n",
        "-LRB-   <FreqDist with 2 samples and 108 outcomes>\n",
        ":   <FreqDist with 5 samples and 524 outcomes>\n",
        "NNS   <FreqDist with 1359 samples and 5436 outcomes>\n",
        "NNP   <FreqDist with 2316 samples and 8438 outcomes>\n",
        "VB   <FreqDist with 656 samples and 2293 outcomes>\n",
        "WRB   <FreqDist with 9 samples and 159 outcomes>\n",
        "CC   <FreqDist with 17 samples and 2039 outcomes>\n",
        "LS   <FreqDist with 7 samples and 13 outcomes>\n",
        "PDT   <FreqDist with 5 samples and 23 outcomes>\n",
        "RBS   <FreqDist with 2 samples and 34 outcomes>\n",
        "RBR   <FreqDist with 16 samples and 125 outcomes>\n",
        "CD   <FreqDist with 863 samples and 3128 outcomes>\n",
        "-NONE-   <FreqDist with 440 samples and 5892 outcomes>\n",
        "T   <FreqDist with 1 samples and 3500 outcomes>\n",
        "IN   <FreqDist with 117 samples and 8852 outcomes>\n",
        "WP$   <FreqDist with 1 samples and 10 outcomes>\n",
        "MD   <FreqDist with 16 samples and 818 outcomes>\n",
        "NNPS   <FreqDist with 98 samples and 216 outcomes>\n",
        "-RRB-   <FreqDist with 2 samples and 114 outcomes>\n",
        "JJS   <FreqDist with 29 samples and 160 outcomes>\n",
        "S   <FreqDist with 1 samples and 3500 outcomes>\n",
        "SYM   <FreqDist with 1 samples and 1 outcomes>\n",
        "UH   <FreqDist with 3 samples and 3 outcomes>\n",
        "JJR   <FreqDist with 46 samples and 346 outcomes>\n",
        "EX   <FreqDist with 2 samples and 85 outcomes>\n"
       ]
      }
     ],
     "prompt_number": 46
    },
    {
     "cell_type": "code",
     "collapsed": false,
     "input": [
      "def viterbi(obs, states, start_p, trans_p, emit_p):\n",
      "    V = [{}]\n",
      "    path = {}\n",
      " \n",
      "    # Initialize base cases (t == 0)\n",
      "    for y in states:\n",
      "        V[0][y] = start_p[y] * emit_p[y].prob(obs[0])\n",
      "        path[y] = [y]\n",
      " \n",
      "    # Run Viterbi for t > 0\n",
      "    for t in range(1, len(obs)):\n",
      "        V.append({})\n",
      "        newpath = {}\n",
      " \n",
      "        for y in states:\n",
      "            (prob, state) = max((V[t-1][y0] * trans_p[y0].prob(y) * emit_p[y].prob(obs[t]), y0) for y0 in states)\n",
      "            V[t][y] = prob\n",
      "            newpath[y] = path[state] + [y]\n",
      " \n",
      "        # Don't need to remember the old paths\n",
      "        path = newpath\n",
      "    n = 0           # if only one element is observed max is sought in the initialization values\n",
      "    if len(obs) != 1:\n",
      "        n = t\n",
      "    \n",
      "    (prob, state) = max((V[n][y], y) for y in states)\n",
      "    return (prob, path[state])\n",
      "\n"
     ],
     "language": "python",
     "metadata": {},
     "outputs": [],
     "prompt_number": 2
    },
    {
     "cell_type": "code",
     "collapsed": false,
     "input": [
      "C_table = {}\n",
      "for tag in set(full_tags):\n",
      "    C_table[tag] = set1_cpd_tags['<s>'].prob(tag)\n",
      "C_table['<s>'] = 0.0016956311247603244\n",
      "C_table['</s>'] = 0\n",
      "\n",
      "test_obs = ['Pierre', 'Viken', ',' , '61' , \"years\", \"old\", \"will\", \"join\", \"the\", \"board\", \"as\", \"a\", \"nonexecutive\", \"director\", \"Nov.\", \"29\",\".\"]\n",
      "print viterbi(test_obs, full_tags, C_table, full_cpd_tags, full_cpd_word_tag )"
     ],
     "language": "python",
     "metadata": {},
     "outputs": [
      {
       "ename": "KeyboardInterrupt",
       "evalue": "",
       "output_type": "pyerr",
       "traceback": [
        "\u001b[0;31m---------------------------------------------------------------------------\u001b[0m\n\u001b[0;31mKeyboardInterrupt\u001b[0m                         Traceback (most recent call last)",
        "\u001b[0;32m<ipython-input-4-6dd78ad61a80>\u001b[0m in \u001b[0;36m<module>\u001b[0;34m()\u001b[0m\n\u001b[1;32m      6\u001b[0m \u001b[0;34m\u001b[0m\u001b[0m\n\u001b[1;32m      7\u001b[0m \u001b[0mtest_obs\u001b[0m \u001b[0;34m=\u001b[0m \u001b[0;34m[\u001b[0m\u001b[0;34m'Pierre'\u001b[0m\u001b[0;34m,\u001b[0m \u001b[0;34m'Viken'\u001b[0m\u001b[0;34m,\u001b[0m \u001b[0;34m','\u001b[0m \u001b[0;34m,\u001b[0m \u001b[0;34m'61'\u001b[0m \u001b[0;34m,\u001b[0m \u001b[0;34m\"years\"\u001b[0m\u001b[0;34m,\u001b[0m \u001b[0;34m\"old\"\u001b[0m\u001b[0;34m,\u001b[0m \u001b[0;34m\"will\"\u001b[0m\u001b[0;34m,\u001b[0m \u001b[0;34m\"join\"\u001b[0m\u001b[0;34m,\u001b[0m \u001b[0;34m\"the\"\u001b[0m\u001b[0;34m,\u001b[0m \u001b[0;34m\"board\"\u001b[0m\u001b[0;34m,\u001b[0m \u001b[0;34m\"as\"\u001b[0m\u001b[0;34m,\u001b[0m \u001b[0;34m\"a\"\u001b[0m\u001b[0;34m,\u001b[0m \u001b[0;34m\"nonexecutive\"\u001b[0m\u001b[0;34m,\u001b[0m \u001b[0;34m\"director\"\u001b[0m\u001b[0;34m,\u001b[0m \u001b[0;34m\"Nov.\"\u001b[0m\u001b[0;34m,\u001b[0m \u001b[0;34m\"29\"\u001b[0m\u001b[0;34m,\u001b[0m\u001b[0;34m\".\"\u001b[0m\u001b[0;34m]\u001b[0m\u001b[0;34m\u001b[0m\u001b[0m\n\u001b[0;32m----> 8\u001b[0;31m \u001b[0;32mprint\u001b[0m \u001b[0mviterbi\u001b[0m\u001b[0;34m(\u001b[0m\u001b[0mtest_obs\u001b[0m\u001b[0;34m,\u001b[0m \u001b[0mfull_tags\u001b[0m\u001b[0;34m,\u001b[0m \u001b[0mC_table\u001b[0m\u001b[0;34m,\u001b[0m \u001b[0mfull_cpd_tags\u001b[0m\u001b[0;34m,\u001b[0m \u001b[0mfull_cpd_word_tag\u001b[0m \u001b[0;34m)\u001b[0m\u001b[0;34m\u001b[0m\u001b[0m\n\u001b[0m",
        "\u001b[0;32m<ipython-input-2-0bb9fd09ccac>\u001b[0m in \u001b[0;36mviterbi\u001b[0;34m(obs, states, start_p, trans_p, emit_p)\u001b[0m\n\u001b[1;32m     14\u001b[0m \u001b[0;34m\u001b[0m\u001b[0m\n\u001b[1;32m     15\u001b[0m         \u001b[0;32mfor\u001b[0m \u001b[0my\u001b[0m \u001b[0;32min\u001b[0m \u001b[0mstates\u001b[0m\u001b[0;34m:\u001b[0m\u001b[0;34m\u001b[0m\u001b[0m\n\u001b[0;32m---> 16\u001b[0;31m             \u001b[0;34m(\u001b[0m\u001b[0mprob\u001b[0m\u001b[0;34m,\u001b[0m \u001b[0mstate\u001b[0m\u001b[0;34m)\u001b[0m \u001b[0;34m=\u001b[0m \u001b[0mmax\u001b[0m\u001b[0;34m(\u001b[0m\u001b[0;34m(\u001b[0m\u001b[0mV\u001b[0m\u001b[0;34m[\u001b[0m\u001b[0mt\u001b[0m\u001b[0;34m-\u001b[0m\u001b[0;36m1\u001b[0m\u001b[0;34m]\u001b[0m\u001b[0;34m[\u001b[0m\u001b[0my0\u001b[0m\u001b[0;34m]\u001b[0m \u001b[0;34m*\u001b[0m \u001b[0mtrans_p\u001b[0m\u001b[0;34m[\u001b[0m\u001b[0my0\u001b[0m\u001b[0;34m]\u001b[0m\u001b[0;34m.\u001b[0m\u001b[0mprob\u001b[0m\u001b[0;34m(\u001b[0m\u001b[0my\u001b[0m\u001b[0;34m)\u001b[0m \u001b[0;34m*\u001b[0m \u001b[0memit_p\u001b[0m\u001b[0;34m[\u001b[0m\u001b[0my\u001b[0m\u001b[0;34m]\u001b[0m\u001b[0;34m.\u001b[0m\u001b[0mprob\u001b[0m\u001b[0;34m(\u001b[0m\u001b[0mobs\u001b[0m\u001b[0;34m[\u001b[0m\u001b[0mt\u001b[0m\u001b[0;34m]\u001b[0m\u001b[0;34m)\u001b[0m\u001b[0;34m,\u001b[0m \u001b[0my0\u001b[0m\u001b[0;34m)\u001b[0m \u001b[0;32mfor\u001b[0m \u001b[0my0\u001b[0m \u001b[0;32min\u001b[0m \u001b[0mstates\u001b[0m\u001b[0;34m)\u001b[0m\u001b[0;34m\u001b[0m\u001b[0m\n\u001b[0m\u001b[1;32m     17\u001b[0m             \u001b[0mV\u001b[0m\u001b[0;34m[\u001b[0m\u001b[0mt\u001b[0m\u001b[0;34m]\u001b[0m\u001b[0;34m[\u001b[0m\u001b[0my\u001b[0m\u001b[0;34m]\u001b[0m \u001b[0;34m=\u001b[0m \u001b[0mprob\u001b[0m\u001b[0;34m\u001b[0m\u001b[0m\n\u001b[1;32m     18\u001b[0m             \u001b[0mnewpath\u001b[0m\u001b[0;34m[\u001b[0m\u001b[0my\u001b[0m\u001b[0;34m]\u001b[0m \u001b[0;34m=\u001b[0m \u001b[0mpath\u001b[0m\u001b[0;34m[\u001b[0m\u001b[0mstate\u001b[0m\u001b[0;34m]\u001b[0m \u001b[0;34m+\u001b[0m \u001b[0;34m[\u001b[0m\u001b[0my\u001b[0m\u001b[0;34m]\u001b[0m\u001b[0;34m\u001b[0m\u001b[0m\n",
        "\u001b[0;32m<ipython-input-2-0bb9fd09ccac>\u001b[0m in \u001b[0;36m<genexpr>\u001b[0;34m((y0,))\u001b[0m\n\u001b[1;32m     14\u001b[0m \u001b[0;34m\u001b[0m\u001b[0m\n\u001b[1;32m     15\u001b[0m         \u001b[0;32mfor\u001b[0m \u001b[0my\u001b[0m \u001b[0;32min\u001b[0m \u001b[0mstates\u001b[0m\u001b[0;34m:\u001b[0m\u001b[0;34m\u001b[0m\u001b[0m\n\u001b[0;32m---> 16\u001b[0;31m             \u001b[0;34m(\u001b[0m\u001b[0mprob\u001b[0m\u001b[0;34m,\u001b[0m \u001b[0mstate\u001b[0m\u001b[0;34m)\u001b[0m \u001b[0;34m=\u001b[0m \u001b[0mmax\u001b[0m\u001b[0;34m(\u001b[0m\u001b[0;34m(\u001b[0m\u001b[0mV\u001b[0m\u001b[0;34m[\u001b[0m\u001b[0mt\u001b[0m\u001b[0;34m-\u001b[0m\u001b[0;36m1\u001b[0m\u001b[0;34m]\u001b[0m\u001b[0;34m[\u001b[0m\u001b[0my0\u001b[0m\u001b[0;34m]\u001b[0m \u001b[0;34m*\u001b[0m \u001b[0mtrans_p\u001b[0m\u001b[0;34m[\u001b[0m\u001b[0my0\u001b[0m\u001b[0;34m]\u001b[0m\u001b[0;34m.\u001b[0m\u001b[0mprob\u001b[0m\u001b[0;34m(\u001b[0m\u001b[0my\u001b[0m\u001b[0;34m)\u001b[0m \u001b[0;34m*\u001b[0m \u001b[0memit_p\u001b[0m\u001b[0;34m[\u001b[0m\u001b[0my\u001b[0m\u001b[0;34m]\u001b[0m\u001b[0;34m.\u001b[0m\u001b[0mprob\u001b[0m\u001b[0;34m(\u001b[0m\u001b[0mobs\u001b[0m\u001b[0;34m[\u001b[0m\u001b[0mt\u001b[0m\u001b[0;34m]\u001b[0m\u001b[0;34m)\u001b[0m\u001b[0;34m,\u001b[0m \u001b[0my0\u001b[0m\u001b[0;34m)\u001b[0m \u001b[0;32mfor\u001b[0m \u001b[0my0\u001b[0m \u001b[0;32min\u001b[0m \u001b[0mstates\u001b[0m\u001b[0;34m)\u001b[0m\u001b[0;34m\u001b[0m\u001b[0m\n\u001b[0m\u001b[1;32m     17\u001b[0m             \u001b[0mV\u001b[0m\u001b[0;34m[\u001b[0m\u001b[0mt\u001b[0m\u001b[0;34m]\u001b[0m\u001b[0;34m[\u001b[0m\u001b[0my\u001b[0m\u001b[0;34m]\u001b[0m \u001b[0;34m=\u001b[0m \u001b[0mprob\u001b[0m\u001b[0;34m\u001b[0m\u001b[0m\n\u001b[1;32m     18\u001b[0m             \u001b[0mnewpath\u001b[0m\u001b[0;34m[\u001b[0m\u001b[0my\u001b[0m\u001b[0;34m]\u001b[0m \u001b[0;34m=\u001b[0m \u001b[0mpath\u001b[0m\u001b[0;34m[\u001b[0m\u001b[0mstate\u001b[0m\u001b[0;34m]\u001b[0m \u001b[0;34m+\u001b[0m \u001b[0;34m[\u001b[0m\u001b[0my\u001b[0m\u001b[0;34m]\u001b[0m\u001b[0;34m\u001b[0m\u001b[0m\n",
        "\u001b[0;32m/usr/local/lib/python2.7/site-packages/nltk/probability.pyc\u001b[0m in \u001b[0;36mprob\u001b[0;34m(self, sample)\u001b[0m\n\u001b[1;32m    617\u001b[0m \u001b[0;34m\u001b[0m\u001b[0m\n\u001b[1;32m    618\u001b[0m     \u001b[0;32mdef\u001b[0m \u001b[0mprob\u001b[0m\u001b[0;34m(\u001b[0m\u001b[0mself\u001b[0m\u001b[0;34m,\u001b[0m \u001b[0msample\u001b[0m\u001b[0;34m)\u001b[0m\u001b[0;34m:\u001b[0m\u001b[0;34m\u001b[0m\u001b[0m\n\u001b[0;32m--> 619\u001b[0;31m         \u001b[0;32mreturn\u001b[0m \u001b[0mself\u001b[0m\u001b[0;34m.\u001b[0m\u001b[0m_freqdist\u001b[0m\u001b[0;34m.\u001b[0m\u001b[0mfreq\u001b[0m\u001b[0;34m(\u001b[0m\u001b[0msample\u001b[0m\u001b[0;34m)\u001b[0m\u001b[0;34m\u001b[0m\u001b[0m\n\u001b[0m\u001b[1;32m    620\u001b[0m \u001b[0;34m\u001b[0m\u001b[0m\n\u001b[1;32m    621\u001b[0m     \u001b[0;32mdef\u001b[0m \u001b[0mmax\u001b[0m\u001b[0;34m(\u001b[0m\u001b[0mself\u001b[0m\u001b[0;34m)\u001b[0m\u001b[0;34m:\u001b[0m\u001b[0;34m\u001b[0m\u001b[0m\n",
        "\u001b[0;32m/usr/local/lib/python2.7/site-packages/nltk/probability.pyc\u001b[0m in \u001b[0;36mfreq\u001b[0;34m(self, sample)\u001b[0m\n\u001b[1;32m    193\u001b[0m         \u001b[0;34m:\u001b[0m\u001b[0mrtype\u001b[0m\u001b[0;34m:\u001b[0m \u001b[0mfloat\u001b[0m\u001b[0;34m\u001b[0m\u001b[0m\n\u001b[1;32m    194\u001b[0m         \"\"\"\n\u001b[0;32m--> 195\u001b[0;31m         \u001b[0;32mif\u001b[0m \u001b[0mself\u001b[0m\u001b[0;34m.\u001b[0m\u001b[0mN\u001b[0m\u001b[0;34m(\u001b[0m\u001b[0;34m)\u001b[0m \u001b[0;34m==\u001b[0m \u001b[0;36m0\u001b[0m\u001b[0;34m:\u001b[0m\u001b[0;34m\u001b[0m\u001b[0m\n\u001b[0m\u001b[1;32m    196\u001b[0m             \u001b[0;32mreturn\u001b[0m \u001b[0;36m0\u001b[0m\u001b[0;34m\u001b[0m\u001b[0m\n\u001b[1;32m    197\u001b[0m         \u001b[0;32mreturn\u001b[0m \u001b[0mfloat\u001b[0m\u001b[0;34m(\u001b[0m\u001b[0mself\u001b[0m\u001b[0;34m[\u001b[0m\u001b[0msample\u001b[0m\u001b[0;34m]\u001b[0m\u001b[0;34m)\u001b[0m \u001b[0;34m/\u001b[0m \u001b[0mself\u001b[0m\u001b[0;34m.\u001b[0m\u001b[0mN\u001b[0m\u001b[0;34m(\u001b[0m\u001b[0;34m)\u001b[0m\u001b[0;34m\u001b[0m\u001b[0m\n",
        "\u001b[0;32m/usr/local/lib/python2.7/site-packages/nltk/probability.pyc\u001b[0m in \u001b[0;36mN\u001b[0;34m(self)\u001b[0m\n\u001b[1;32m    115\u001b[0m         \u001b[0;34m:\u001b[0m\u001b[0mrtype\u001b[0m\u001b[0;34m:\u001b[0m \u001b[0mint\u001b[0m\u001b[0;34m\u001b[0m\u001b[0m\n\u001b[1;32m    116\u001b[0m         \"\"\"\n\u001b[0;32m--> 117\u001b[0;31m         \u001b[0;32mreturn\u001b[0m \u001b[0msum\u001b[0m\u001b[0;34m(\u001b[0m\u001b[0mself\u001b[0m\u001b[0;34m.\u001b[0m\u001b[0mvalues\u001b[0m\u001b[0;34m(\u001b[0m\u001b[0;34m)\u001b[0m\u001b[0;34m)\u001b[0m\u001b[0;34m\u001b[0m\u001b[0m\n\u001b[0m\u001b[1;32m    118\u001b[0m \u001b[0;34m\u001b[0m\u001b[0m\n\u001b[1;32m    119\u001b[0m     \u001b[0;32mdef\u001b[0m \u001b[0mB\u001b[0m\u001b[0;34m(\u001b[0m\u001b[0mself\u001b[0m\u001b[0;34m)\u001b[0m\u001b[0;34m:\u001b[0m\u001b[0;34m\u001b[0m\u001b[0m\n",
        "\u001b[0;31mKeyboardInterrupt\u001b[0m: "
       ]
      }
     ],
     "prompt_number": 4
    },
    {
     "cell_type": "code",
     "collapsed": false,
     "input": [],
     "language": "python",
     "metadata": {},
     "outputs": []
    }
   ],
   "metadata": {}
  }
 ]
}